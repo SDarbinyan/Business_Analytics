{
 "cells": [
  {
   "cell_type": "code",
   "execution_count": 1,
   "metadata": {},
   "outputs": [],
   "source": [
    "import numpy as np\n",
    "import pandas as pd\n",
    "import matplotlib.pyplot as plt\n",
    "import seaborn as sns\n",
    "from statsmodels.discrete.discrete_model import Logit\n",
    "from sklearn.model_selection import train_test_split\n",
    "import statsmodels.tools as sm\n",
    "from sklearn.linear_model import LogisticRegression\n",
    "from sklearn.model_selection import train_test_split, GridSearchCV,cross_val_score\n",
    "from sklearn.metrics import accuracy_score,recall_score,confusion_matrix,classification_report,roc_auc_score,roc_curve"
   ]
  },
  {
   "cell_type": "markdown",
   "metadata": {},
   "source": [
    "# 1. Read the dataset"
   ]
  },
  {
   "cell_type": "code",
   "execution_count": 2,
   "metadata": {},
   "outputs": [],
   "source": [
    "data=pd.read_excel(\"Telecom_Churn.xls\")"
   ]
  },
  {
   "cell_type": "code",
   "execution_count": 3,
   "metadata": {},
   "outputs": [
    {
     "name": "stdout",
     "output_type": "stream",
     "text": [
      "<class 'pandas.core.frame.DataFrame'>\n",
      "RangeIndex: 3333 entries, 0 to 3332\n",
      "Data columns (total 21 columns):\n",
      "Account Length    3333 non-null int64\n",
      "VMail Message     3333 non-null int64\n",
      "Day Mins          3333 non-null float64\n",
      "Eve Mins          3333 non-null float64\n",
      "Night Mins        3333 non-null float64\n",
      "Intl Mins         3333 non-null float64\n",
      "CustServ Calls    3333 non-null int64\n",
      "Churn             3333 non-null int64\n",
      "Int'l Plan        3333 non-null int64\n",
      "VMail Plan        3333 non-null int64\n",
      "Day Calls         3333 non-null int64\n",
      "Day Charge        3333 non-null float64\n",
      "Eve Calls         3333 non-null int64\n",
      "Eve Charge        3333 non-null float64\n",
      "Night Calls       3333 non-null int64\n",
      "Night Charge      3333 non-null float64\n",
      "Intl Calls        3333 non-null int64\n",
      "Intl Charge       3333 non-null float64\n",
      "State             3333 non-null object\n",
      "Area Code         3333 non-null int64\n",
      "Phone             3333 non-null object\n",
      "dtypes: float64(8), int64(11), object(2)\n",
      "memory usage: 546.9+ KB\n"
     ]
    }
   ],
   "source": [
    "data.info()"
   ]
  },
  {
   "cell_type": "code",
   "execution_count": 4,
   "metadata": {},
   "outputs": [],
   "source": [
    "# as our column names contain spaces let's replace them with _\n",
    "data.columns = data.columns.str.replace(\" \", \"_\")"
   ]
  },
  {
   "cell_type": "code",
   "execution_count": 5,
   "metadata": {},
   "outputs": [
    {
     "data": {
      "text/html": [
       "<div>\n",
       "<style scoped>\n",
       "    .dataframe tbody tr th:only-of-type {\n",
       "        vertical-align: middle;\n",
       "    }\n",
       "\n",
       "    .dataframe tbody tr th {\n",
       "        vertical-align: top;\n",
       "    }\n",
       "\n",
       "    .dataframe thead th {\n",
       "        text-align: right;\n",
       "    }\n",
       "</style>\n",
       "<table border=\"1\" class=\"dataframe\">\n",
       "  <thead>\n",
       "    <tr style=\"text-align: right;\">\n",
       "      <th></th>\n",
       "      <th>Account_Length</th>\n",
       "      <th>VMail_Message</th>\n",
       "      <th>Day_Mins</th>\n",
       "      <th>Eve_Mins</th>\n",
       "      <th>Night_Mins</th>\n",
       "      <th>Intl_Mins</th>\n",
       "      <th>CustServ_Calls</th>\n",
       "      <th>Churn</th>\n",
       "      <th>Int'l_Plan</th>\n",
       "      <th>VMail_Plan</th>\n",
       "      <th>...</th>\n",
       "      <th>Day_Charge</th>\n",
       "      <th>Eve_Calls</th>\n",
       "      <th>Eve_Charge</th>\n",
       "      <th>Night_Calls</th>\n",
       "      <th>Night_Charge</th>\n",
       "      <th>Intl_Calls</th>\n",
       "      <th>Intl_Charge</th>\n",
       "      <th>State</th>\n",
       "      <th>Area_Code</th>\n",
       "      <th>Phone</th>\n",
       "    </tr>\n",
       "  </thead>\n",
       "  <tbody>\n",
       "    <tr>\n",
       "      <th>0</th>\n",
       "      <td>128</td>\n",
       "      <td>25</td>\n",
       "      <td>265.1</td>\n",
       "      <td>197.4</td>\n",
       "      <td>244.7</td>\n",
       "      <td>10.0</td>\n",
       "      <td>1</td>\n",
       "      <td>0</td>\n",
       "      <td>0</td>\n",
       "      <td>1</td>\n",
       "      <td>...</td>\n",
       "      <td>45.07</td>\n",
       "      <td>99</td>\n",
       "      <td>16.78</td>\n",
       "      <td>91</td>\n",
       "      <td>11.01</td>\n",
       "      <td>3</td>\n",
       "      <td>2.70</td>\n",
       "      <td>KS</td>\n",
       "      <td>415</td>\n",
       "      <td>382-4657</td>\n",
       "    </tr>\n",
       "    <tr>\n",
       "      <th>1</th>\n",
       "      <td>107</td>\n",
       "      <td>26</td>\n",
       "      <td>161.6</td>\n",
       "      <td>195.5</td>\n",
       "      <td>254.4</td>\n",
       "      <td>13.7</td>\n",
       "      <td>1</td>\n",
       "      <td>0</td>\n",
       "      <td>0</td>\n",
       "      <td>1</td>\n",
       "      <td>...</td>\n",
       "      <td>27.47</td>\n",
       "      <td>103</td>\n",
       "      <td>16.62</td>\n",
       "      <td>103</td>\n",
       "      <td>11.45</td>\n",
       "      <td>3</td>\n",
       "      <td>3.70</td>\n",
       "      <td>OH</td>\n",
       "      <td>415</td>\n",
       "      <td>371-7191</td>\n",
       "    </tr>\n",
       "    <tr>\n",
       "      <th>2</th>\n",
       "      <td>137</td>\n",
       "      <td>0</td>\n",
       "      <td>243.4</td>\n",
       "      <td>121.2</td>\n",
       "      <td>162.6</td>\n",
       "      <td>12.2</td>\n",
       "      <td>0</td>\n",
       "      <td>0</td>\n",
       "      <td>0</td>\n",
       "      <td>0</td>\n",
       "      <td>...</td>\n",
       "      <td>41.38</td>\n",
       "      <td>110</td>\n",
       "      <td>10.30</td>\n",
       "      <td>104</td>\n",
       "      <td>7.32</td>\n",
       "      <td>5</td>\n",
       "      <td>3.29</td>\n",
       "      <td>NJ</td>\n",
       "      <td>415</td>\n",
       "      <td>358-1921</td>\n",
       "    </tr>\n",
       "    <tr>\n",
       "      <th>3</th>\n",
       "      <td>84</td>\n",
       "      <td>0</td>\n",
       "      <td>299.4</td>\n",
       "      <td>61.9</td>\n",
       "      <td>196.9</td>\n",
       "      <td>6.6</td>\n",
       "      <td>2</td>\n",
       "      <td>0</td>\n",
       "      <td>1</td>\n",
       "      <td>0</td>\n",
       "      <td>...</td>\n",
       "      <td>50.90</td>\n",
       "      <td>88</td>\n",
       "      <td>5.26</td>\n",
       "      <td>89</td>\n",
       "      <td>8.86</td>\n",
       "      <td>7</td>\n",
       "      <td>1.78</td>\n",
       "      <td>OH</td>\n",
       "      <td>408</td>\n",
       "      <td>375-9999</td>\n",
       "    </tr>\n",
       "    <tr>\n",
       "      <th>4</th>\n",
       "      <td>75</td>\n",
       "      <td>0</td>\n",
       "      <td>166.7</td>\n",
       "      <td>148.3</td>\n",
       "      <td>186.9</td>\n",
       "      <td>10.1</td>\n",
       "      <td>3</td>\n",
       "      <td>0</td>\n",
       "      <td>1</td>\n",
       "      <td>0</td>\n",
       "      <td>...</td>\n",
       "      <td>28.34</td>\n",
       "      <td>122</td>\n",
       "      <td>12.61</td>\n",
       "      <td>121</td>\n",
       "      <td>8.41</td>\n",
       "      <td>3</td>\n",
       "      <td>2.73</td>\n",
       "      <td>OK</td>\n",
       "      <td>415</td>\n",
       "      <td>330-6626</td>\n",
       "    </tr>\n",
       "  </tbody>\n",
       "</table>\n",
       "<p>5 rows × 21 columns</p>\n",
       "</div>"
      ],
      "text/plain": [
       "   Account_Length  VMail_Message  Day_Mins  Eve_Mins  Night_Mins  Intl_Mins  \\\n",
       "0             128             25     265.1     197.4       244.7       10.0   \n",
       "1             107             26     161.6     195.5       254.4       13.7   \n",
       "2             137              0     243.4     121.2       162.6       12.2   \n",
       "3              84              0     299.4      61.9       196.9        6.6   \n",
       "4              75              0     166.7     148.3       186.9       10.1   \n",
       "\n",
       "   CustServ_Calls  Churn  Int'l_Plan  VMail_Plan  ...  Day_Charge  Eve_Calls  \\\n",
       "0               1      0           0           1  ...       45.07         99   \n",
       "1               1      0           0           1  ...       27.47        103   \n",
       "2               0      0           0           0  ...       41.38        110   \n",
       "3               2      0           1           0  ...       50.90         88   \n",
       "4               3      0           1           0  ...       28.34        122   \n",
       "\n",
       "   Eve_Charge  Night_Calls  Night_Charge  Intl_Calls  Intl_Charge  State  \\\n",
       "0       16.78           91         11.01           3         2.70     KS   \n",
       "1       16.62          103         11.45           3         3.70     OH   \n",
       "2       10.30          104          7.32           5         3.29     NJ   \n",
       "3        5.26           89          8.86           7         1.78     OH   \n",
       "4       12.61          121          8.41           3         2.73     OK   \n",
       "\n",
       "  Area_Code     Phone  \n",
       "0       415  382-4657  \n",
       "1       415  371-7191  \n",
       "2       415  358-1921  \n",
       "3       408  375-9999  \n",
       "4       415  330-6626  \n",
       "\n",
       "[5 rows x 21 columns]"
      ]
     },
     "execution_count": 5,
     "metadata": {},
     "output_type": "execute_result"
    }
   ],
   "source": [
    "data.head()"
   ]
  },
  {
   "cell_type": "code",
   "execution_count": 6,
   "metadata": {},
   "outputs": [],
   "source": [
    "#Customer phone number is a unique number, so it can be kept setting to index(also it will be droped)\n",
    "data.set_index(keys=\"Phone\", inplace=True)\n"
   ]
  },
  {
   "cell_type": "code",
   "execution_count": 7,
   "metadata": {},
   "outputs": [
    {
     "name": "stdout",
     "output_type": "stream",
     "text": [
      "<class 'pandas.core.frame.DataFrame'>\n",
      "Index: 3333 entries, 382-4657 to 400-4344\n",
      "Data columns (total 20 columns):\n",
      "Account_Length    3333 non-null int64\n",
      "VMail_Message     3333 non-null int64\n",
      "Day_Mins          3333 non-null float64\n",
      "Eve_Mins          3333 non-null float64\n",
      "Night_Mins        3333 non-null float64\n",
      "Intl_Mins         3333 non-null float64\n",
      "CustServ_Calls    3333 non-null int64\n",
      "Churn             3333 non-null int64\n",
      "Int'l_Plan        3333 non-null int64\n",
      "VMail_Plan        3333 non-null int64\n",
      "Day_Calls         3333 non-null int64\n",
      "Day_Charge        3333 non-null float64\n",
      "Eve_Calls         3333 non-null int64\n",
      "Eve_Charge        3333 non-null float64\n",
      "Night_Calls       3333 non-null int64\n",
      "Night_Charge      3333 non-null float64\n",
      "Intl_Calls        3333 non-null int64\n",
      "Intl_Charge       3333 non-null float64\n",
      "State             3333 non-null object\n",
      "Area_Code         3333 non-null int64\n",
      "dtypes: float64(8), int64(11), object(1)\n",
      "memory usage: 546.8+ KB\n"
     ]
    }
   ],
   "source": [
    "data.info()"
   ]
  },
  {
   "cell_type": "code",
   "execution_count": 8,
   "metadata": {},
   "outputs": [
    {
     "data": {
      "text/html": [
       "<div>\n",
       "<style scoped>\n",
       "    .dataframe tbody tr th:only-of-type {\n",
       "        vertical-align: middle;\n",
       "    }\n",
       "\n",
       "    .dataframe tbody tr th {\n",
       "        vertical-align: top;\n",
       "    }\n",
       "\n",
       "    .dataframe thead th {\n",
       "        text-align: right;\n",
       "    }\n",
       "</style>\n",
       "<table border=\"1\" class=\"dataframe\">\n",
       "  <thead>\n",
       "    <tr style=\"text-align: right;\">\n",
       "      <th></th>\n",
       "      <th>Account_Length</th>\n",
       "      <th>VMail_Message</th>\n",
       "      <th>Day_Mins</th>\n",
       "      <th>Eve_Mins</th>\n",
       "      <th>Night_Mins</th>\n",
       "      <th>Intl_Mins</th>\n",
       "      <th>CustServ_Calls</th>\n",
       "      <th>Churn</th>\n",
       "      <th>Int'l_Plan</th>\n",
       "      <th>VMail_Plan</th>\n",
       "      <th>Day_Calls</th>\n",
       "      <th>Day_Charge</th>\n",
       "      <th>Eve_Calls</th>\n",
       "      <th>Eve_Charge</th>\n",
       "      <th>Night_Calls</th>\n",
       "      <th>Night_Charge</th>\n",
       "      <th>Intl_Calls</th>\n",
       "      <th>Intl_Charge</th>\n",
       "      <th>Area_Code</th>\n",
       "    </tr>\n",
       "  </thead>\n",
       "  <tbody>\n",
       "    <tr>\n",
       "      <th>count</th>\n",
       "      <td>3333.000000</td>\n",
       "      <td>3333.000000</td>\n",
       "      <td>3333.000000</td>\n",
       "      <td>3333.000000</td>\n",
       "      <td>3333.000000</td>\n",
       "      <td>3333.000000</td>\n",
       "      <td>3333.000000</td>\n",
       "      <td>3333.000000</td>\n",
       "      <td>3333.000000</td>\n",
       "      <td>3333.000000</td>\n",
       "      <td>3333.000000</td>\n",
       "      <td>3333.000000</td>\n",
       "      <td>3333.000000</td>\n",
       "      <td>3333.000000</td>\n",
       "      <td>3333.000000</td>\n",
       "      <td>3333.000000</td>\n",
       "      <td>3333.000000</td>\n",
       "      <td>3333.000000</td>\n",
       "      <td>3333.000000</td>\n",
       "    </tr>\n",
       "    <tr>\n",
       "      <th>mean</th>\n",
       "      <td>101.064806</td>\n",
       "      <td>8.099010</td>\n",
       "      <td>179.775098</td>\n",
       "      <td>200.980348</td>\n",
       "      <td>200.872037</td>\n",
       "      <td>10.237294</td>\n",
       "      <td>1.562856</td>\n",
       "      <td>0.144914</td>\n",
       "      <td>0.096910</td>\n",
       "      <td>0.276628</td>\n",
       "      <td>100.435644</td>\n",
       "      <td>30.562307</td>\n",
       "      <td>100.114311</td>\n",
       "      <td>17.083540</td>\n",
       "      <td>100.107711</td>\n",
       "      <td>9.039325</td>\n",
       "      <td>4.479448</td>\n",
       "      <td>2.764581</td>\n",
       "      <td>437.182418</td>\n",
       "    </tr>\n",
       "    <tr>\n",
       "      <th>std</th>\n",
       "      <td>39.822106</td>\n",
       "      <td>13.688365</td>\n",
       "      <td>54.467389</td>\n",
       "      <td>50.713844</td>\n",
       "      <td>50.573847</td>\n",
       "      <td>2.791840</td>\n",
       "      <td>1.315491</td>\n",
       "      <td>0.352067</td>\n",
       "      <td>0.295879</td>\n",
       "      <td>0.447398</td>\n",
       "      <td>20.069084</td>\n",
       "      <td>9.259435</td>\n",
       "      <td>19.922625</td>\n",
       "      <td>4.310668</td>\n",
       "      <td>19.568609</td>\n",
       "      <td>2.275873</td>\n",
       "      <td>2.461214</td>\n",
       "      <td>0.753773</td>\n",
       "      <td>42.371290</td>\n",
       "    </tr>\n",
       "    <tr>\n",
       "      <th>min</th>\n",
       "      <td>1.000000</td>\n",
       "      <td>0.000000</td>\n",
       "      <td>0.000000</td>\n",
       "      <td>0.000000</td>\n",
       "      <td>23.200000</td>\n",
       "      <td>0.000000</td>\n",
       "      <td>0.000000</td>\n",
       "      <td>0.000000</td>\n",
       "      <td>0.000000</td>\n",
       "      <td>0.000000</td>\n",
       "      <td>0.000000</td>\n",
       "      <td>0.000000</td>\n",
       "      <td>0.000000</td>\n",
       "      <td>0.000000</td>\n",
       "      <td>33.000000</td>\n",
       "      <td>1.040000</td>\n",
       "      <td>0.000000</td>\n",
       "      <td>0.000000</td>\n",
       "      <td>408.000000</td>\n",
       "    </tr>\n",
       "    <tr>\n",
       "      <th>25%</th>\n",
       "      <td>74.000000</td>\n",
       "      <td>0.000000</td>\n",
       "      <td>143.700000</td>\n",
       "      <td>166.600000</td>\n",
       "      <td>167.000000</td>\n",
       "      <td>8.500000</td>\n",
       "      <td>1.000000</td>\n",
       "      <td>0.000000</td>\n",
       "      <td>0.000000</td>\n",
       "      <td>0.000000</td>\n",
       "      <td>87.000000</td>\n",
       "      <td>24.430000</td>\n",
       "      <td>87.000000</td>\n",
       "      <td>14.160000</td>\n",
       "      <td>87.000000</td>\n",
       "      <td>7.520000</td>\n",
       "      <td>3.000000</td>\n",
       "      <td>2.300000</td>\n",
       "      <td>408.000000</td>\n",
       "    </tr>\n",
       "    <tr>\n",
       "      <th>50%</th>\n",
       "      <td>101.000000</td>\n",
       "      <td>0.000000</td>\n",
       "      <td>179.400000</td>\n",
       "      <td>201.400000</td>\n",
       "      <td>201.200000</td>\n",
       "      <td>10.300000</td>\n",
       "      <td>1.000000</td>\n",
       "      <td>0.000000</td>\n",
       "      <td>0.000000</td>\n",
       "      <td>0.000000</td>\n",
       "      <td>101.000000</td>\n",
       "      <td>30.500000</td>\n",
       "      <td>100.000000</td>\n",
       "      <td>17.120000</td>\n",
       "      <td>100.000000</td>\n",
       "      <td>9.050000</td>\n",
       "      <td>4.000000</td>\n",
       "      <td>2.780000</td>\n",
       "      <td>415.000000</td>\n",
       "    </tr>\n",
       "    <tr>\n",
       "      <th>75%</th>\n",
       "      <td>127.000000</td>\n",
       "      <td>20.000000</td>\n",
       "      <td>216.400000</td>\n",
       "      <td>235.300000</td>\n",
       "      <td>235.300000</td>\n",
       "      <td>12.100000</td>\n",
       "      <td>2.000000</td>\n",
       "      <td>0.000000</td>\n",
       "      <td>0.000000</td>\n",
       "      <td>1.000000</td>\n",
       "      <td>114.000000</td>\n",
       "      <td>36.790000</td>\n",
       "      <td>114.000000</td>\n",
       "      <td>20.000000</td>\n",
       "      <td>113.000000</td>\n",
       "      <td>10.590000</td>\n",
       "      <td>6.000000</td>\n",
       "      <td>3.270000</td>\n",
       "      <td>510.000000</td>\n",
       "    </tr>\n",
       "    <tr>\n",
       "      <th>max</th>\n",
       "      <td>243.000000</td>\n",
       "      <td>51.000000</td>\n",
       "      <td>350.800000</td>\n",
       "      <td>363.700000</td>\n",
       "      <td>395.000000</td>\n",
       "      <td>20.000000</td>\n",
       "      <td>9.000000</td>\n",
       "      <td>1.000000</td>\n",
       "      <td>1.000000</td>\n",
       "      <td>1.000000</td>\n",
       "      <td>165.000000</td>\n",
       "      <td>59.640000</td>\n",
       "      <td>170.000000</td>\n",
       "      <td>30.910000</td>\n",
       "      <td>175.000000</td>\n",
       "      <td>17.770000</td>\n",
       "      <td>20.000000</td>\n",
       "      <td>5.400000</td>\n",
       "      <td>510.000000</td>\n",
       "    </tr>\n",
       "  </tbody>\n",
       "</table>\n",
       "</div>"
      ],
      "text/plain": [
       "       Account_Length  VMail_Message     Day_Mins     Eve_Mins   Night_Mins  \\\n",
       "count     3333.000000    3333.000000  3333.000000  3333.000000  3333.000000   \n",
       "mean       101.064806       8.099010   179.775098   200.980348   200.872037   \n",
       "std         39.822106      13.688365    54.467389    50.713844    50.573847   \n",
       "min          1.000000       0.000000     0.000000     0.000000    23.200000   \n",
       "25%         74.000000       0.000000   143.700000   166.600000   167.000000   \n",
       "50%        101.000000       0.000000   179.400000   201.400000   201.200000   \n",
       "75%        127.000000      20.000000   216.400000   235.300000   235.300000   \n",
       "max        243.000000      51.000000   350.800000   363.700000   395.000000   \n",
       "\n",
       "         Intl_Mins  CustServ_Calls        Churn   Int'l_Plan   VMail_Plan  \\\n",
       "count  3333.000000     3333.000000  3333.000000  3333.000000  3333.000000   \n",
       "mean     10.237294        1.562856     0.144914     0.096910     0.276628   \n",
       "std       2.791840        1.315491     0.352067     0.295879     0.447398   \n",
       "min       0.000000        0.000000     0.000000     0.000000     0.000000   \n",
       "25%       8.500000        1.000000     0.000000     0.000000     0.000000   \n",
       "50%      10.300000        1.000000     0.000000     0.000000     0.000000   \n",
       "75%      12.100000        2.000000     0.000000     0.000000     1.000000   \n",
       "max      20.000000        9.000000     1.000000     1.000000     1.000000   \n",
       "\n",
       "         Day_Calls   Day_Charge    Eve_Calls   Eve_Charge  Night_Calls  \\\n",
       "count  3333.000000  3333.000000  3333.000000  3333.000000  3333.000000   \n",
       "mean    100.435644    30.562307   100.114311    17.083540   100.107711   \n",
       "std      20.069084     9.259435    19.922625     4.310668    19.568609   \n",
       "min       0.000000     0.000000     0.000000     0.000000    33.000000   \n",
       "25%      87.000000    24.430000    87.000000    14.160000    87.000000   \n",
       "50%     101.000000    30.500000   100.000000    17.120000   100.000000   \n",
       "75%     114.000000    36.790000   114.000000    20.000000   113.000000   \n",
       "max     165.000000    59.640000   170.000000    30.910000   175.000000   \n",
       "\n",
       "       Night_Charge   Intl_Calls  Intl_Charge    Area_Code  \n",
       "count   3333.000000  3333.000000  3333.000000  3333.000000  \n",
       "mean       9.039325     4.479448     2.764581   437.182418  \n",
       "std        2.275873     2.461214     0.753773    42.371290  \n",
       "min        1.040000     0.000000     0.000000   408.000000  \n",
       "25%        7.520000     3.000000     2.300000   408.000000  \n",
       "50%        9.050000     4.000000     2.780000   415.000000  \n",
       "75%       10.590000     6.000000     3.270000   510.000000  \n",
       "max       17.770000    20.000000     5.400000   510.000000  "
      ]
     },
     "execution_count": 8,
     "metadata": {},
     "output_type": "execute_result"
    }
   ],
   "source": [
    "data.describe()"
   ]
  },
  {
   "cell_type": "markdown",
   "metadata": {},
   "source": [
    "# 2. Check whether there are any missing values/duplicates or not, and if yes, deal with them accordingly."
   ]
  },
  {
   "cell_type": "markdown",
   "metadata": {},
   "source": [
    "# 3.Check whether there are any variables that have only one value and remove them if any."
   ]
  },
  {
   "cell_type": "code",
   "execution_count": 9,
   "metadata": {},
   "outputs": [
    {
     "name": "stdout",
     "output_type": "stream",
     "text": [
      "Duplicates: 0\n",
      "Missing values: 0\n",
      "Single valued columns: Index([], dtype='object')\n"
     ]
    }
   ],
   "source": [
    "print(\"Duplicates:\", data.duplicated().sum())\n",
    "print(\"Missing values:\", data.isna().sum().sum())\n",
    "print(\"Single valued columns:\", data.columns[data.nunique()==1])"
   ]
  },
  {
   "cell_type": "markdown",
   "metadata": {},
   "source": [
    "#### there is no duplicates, missing values and single valued columns in our data"
   ]
  },
  {
   "cell_type": "markdown",
   "metadata": {},
   "source": [
    "# 4. Check whether you have correlated features or not, and if yes, deal with them accordingly."
   ]
  },
  {
   "cell_type": "code",
   "execution_count": 10,
   "metadata": {},
   "outputs": [
    {
     "data": {
      "image/png": "[encoded data removed]",
      "text/plain": [
       "<Figure size 720x432 with 2 Axes>"
      ]
     },
     "metadata": {
      "needs_background": "light"
     },
     "output_type": "display_data"
    }
   ],
   "source": [
    "plt.figure(figsize=(10,6))\n",
    "sns.heatmap(data.corr().round(2),annot=True)\n",
    "plt.show()"
   ]
  },
  {
   "cell_type": "markdown",
   "metadata": {},
   "source": [
    "#### as we see there is high correlation between VMail Plan and VMail Message. Also we have very high correlation between Day Charge and Day Mins, Eve Charge and Eve Mins, Night Charge and Night Mins, Intl Charge and Intl Mins(which is obviouse as the rate per part of the day is fixed; the more you talk in minutes, the more you will be charged)"
   ]
  },
  {
   "cell_type": "markdown",
   "metadata": {},
   "source": [
    "# 5. Do some descriptive analysis (visualizations), which may help to improve the model afterwards."
   ]
  },
  {
   "cell_type": "code",
   "execution_count": 11,
   "metadata": {
    "scrolled": false
   },
   "outputs": [
    {
     "data": {
      "image/png": "[encoded data removed]",
      "text/plain": [
       "<Figure size 432x288 with 1 Axes>"
      ]
     },
     "metadata": {
      "needs_background": "light"
     },
     "output_type": "display_data"
    },
    {
     "data": {
      "image/png": "[encoded data removed]",
      "text/plain": [
       "<Figure size 432x288 with 1 Axes>"
      ]
     },
     "metadata": {
      "needs_background": "light"
     },
     "output_type": "display_data"
    },
    {
     "data": {
      "image/png": "[encoded data removed]",
      "text/plain": [
       "<Figure size 432x288 with 1 Axes>"
      ]
     },
     "metadata": {
      "needs_background": "light"
     },
     "output_type": "display_data"
    },
    {
     "data": {
      "image/png": "[encoded data removed]",
      "text/plain": [
       "<Figure size 432x288 with 1 Axes>"
      ]
     },
     "metadata": {
      "needs_background": "light"
     },
     "output_type": "display_data"
    },
    {
     "data": {
      "image/png": "[encoded data removed]",
      "text/plain": [
       "<Figure size 432x288 with 1 Axes>"
      ]
     },
     "metadata": {
      "needs_background": "light"
     },
     "output_type": "display_data"
    },
    {
     "data": {
      "image/png": "[encoded data removed]",
      "text/plain": [
       "<Figure size 432x288 with 1 Axes>"
      ]
     },
     "metadata": {
      "needs_background": "light"
     },
     "output_type": "display_data"
    },
    {
     "data": {
      "image/png": "[encoded data removed]",
      "text/plain": [
       "<Figure size 432x288 with 1 Axes>"
      ]
     },
     "metadata": {
      "needs_background": "light"
     },
     "output_type": "display_data"
    },
    {
     "data": {
      "image/png": "[encoded data removed]",
      "text/plain": [
       "<Figure size 432x288 with 1 Axes>"
      ]
     },
     "metadata": {
      "needs_background": "light"
     },
     "output_type": "display_data"
    },
    {
     "data": {
      "image/png": "[encoded data removed]",
      "text/plain": [
       "<Figure size 432x288 with 1 Axes>"
      ]
     },
     "metadata": {
      "needs_background": "light"
     },
     "output_type": "display_data"
    },
    {
     "data": {
      "image/png": "[encoded data removed]",
      "text/plain": [
       "<Figure size 432x288 with 1 Axes>"
      ]
     },
     "metadata": {
      "needs_background": "light"
     },
     "output_type": "display_data"
    },
    {
     "data": {
      "image/png": "[encoded data removed]",
      "text/plain": [
       "<Figure size 432x288 with 1 Axes>"
      ]
     },
     "metadata": {
      "needs_background": "light"
     },
     "output_type": "display_data"
    },
    {
     "data": {
      "image/png": "[encoded data removed]",
      "text/plain": [
       "<Figure size 432x288 with 1 Axes>"
      ]
     },
     "metadata": {
      "needs_background": "light"
     },
     "output_type": "display_data"
    },
    {
     "data": {
      "image/png": "[encoded data removed]",
      "text/plain": [
       "<Figure size 432x288 with 1 Axes>"
      ]
     },
     "metadata": {
      "needs_background": "light"
     },
     "output_type": "display_data"
    },
    {
     "data": {
      "image/png": "[encoded data removed]",
      "text/plain": [
       "<Figure size 432x288 with 1 Axes>"
      ]
     },
     "metadata": {
      "needs_background": "light"
     },
     "output_type": "display_data"
    },
    {
     "data": {
      "image/png": "[encoded data removed]",
      "text/plain": [
       "<Figure size 432x288 with 1 Axes>"
      ]
     },
     "metadata": {
      "needs_background": "light"
     },
     "output_type": "display_data"
    },
    {
     "data": {
      "image/png": "[encoded data removed]",
      "text/plain": [
       "<Figure size 432x288 with 1 Axes>"
      ]
     },
     "metadata": {
      "needs_background": "light"
     },
     "output_type": "display_data"
    },
    {
     "data": {
      "image/png": "[encoded data removed]",
      "text/plain": [
       "<Figure size 432x288 with 1 Axes>"
      ]
     },
     "metadata": {
      "needs_background": "light"
     },
     "output_type": "display_data"
    },
    {
     "data": {
      "image/png": "[encoded data removed]",
      "text/plain": [
       "<Figure size 432x288 with 1 Axes>"
      ]
     },
     "metadata": {
      "needs_background": "light"
     },
     "output_type": "display_data"
    },
    {
     "data": {
      "image/png": "[encoded data removed]",
      "text/plain": [
       "<Figure size 432x288 with 1 Axes>"
      ]
     },
     "metadata": {
      "needs_background": "light"
     },
     "output_type": "display_data"
    }
   ],
   "source": [
    "#Let's also see whether mean Final grade differs by any of the categorical variables useing boxplot\n",
    "for i in data.dtypes[data.dtypes!=\"O\"].index.tolist():\n",
    "    sns.boxplot(data=data,y=i,x=\"Churn\", showmeans=True)\n",
    "    plt.show()"
   ]
  },
  {
   "cell_type": "markdown",
   "metadata": {},
   "source": [
    "####  We can clearly see that number of times customers calls to custom service do affect Churn. Plot indicates, that the means of CustServ_Calls for churned and not churned customers differ, hence we can keep that variable.. those of Day_Charge, Day_Call, Night_Charge, Night_Call.. are also different. \n",
    "#### The length boxes for Account_lenghth are slightly different, that is why I have desided not to drop it."
   ]
  },
  {
   "cell_type": "code",
   "execution_count": 13,
   "metadata": {},
   "outputs": [
    {
     "data": {
      "image/png": "[encoded data removed]",
      "text/plain": [
       "<Figure size 432x288 with 1 Axes>"
      ]
     },
     "metadata": {
      "needs_background": "light"
     },
     "output_type": "display_data"
    }
   ],
   "source": [
    "sns.boxplot(data=data,y=\"VMail_Message\",x=\"VMail_Plan\", showmeans=True)\n",
    "plt.show()"
   ]
  },
  {
   "cell_type": "markdown",
   "metadata": {},
   "source": [
    "#### here we can conclude that consumers without VMail_Plan  has no messages, that is why these two variables are correlated so we can drop VMail_Message"
   ]
  },
  {
   "cell_type": "code",
   "execution_count": 14,
   "metadata": {},
   "outputs": [
    {
     "data": {
      "image/png": "[encoded data removed]",
      "text/plain": [
       "<Figure size 432x288 with 1 Axes>"
      ]
     },
     "metadata": {
      "needs_background": "light"
     },
     "output_type": "display_data"
    }
   ],
   "source": [
    "sns.boxplot(data=data,y=\"Intl_Mins\",x=\"Int'l_Plan\", showmeans=True)\n",
    "plt.show()"
   ]
  },
  {
   "cell_type": "code",
   "execution_count": 15,
   "metadata": {},
   "outputs": [
    {
     "data": {
      "image/png": "[encoded data removed]",
      "text/plain": [
       "<Figure size 720x504 with 1 Axes>"
      ]
     },
     "metadata": {
      "needs_background": "light"
     },
     "output_type": "display_data"
    }
   ],
   "source": [
    "plt.figure(figsize=(10,7))\n",
    "sns.boxplot(data=data,y=\"Account_Length\",x=\"VMail_Plan\",hue=data.Churn,  showmeans=True)\n",
    "plt.show()"
   ]
  },
  {
   "cell_type": "code",
   "execution_count": 16,
   "metadata": {},
   "outputs": [],
   "source": [
    "#creating churn rate for each VMail_Plan and Int'l_Plan types\n",
    "rates_list=[]\n",
    "rates1=data.groupby(\"Int'l_Plan\")[\"Churn\"].value_counts(normalize=True).rename(\"percentage\").mul(100).reset_index()\n",
    "rates2=data.groupby(\"VMail_Plan\")[\"Churn\"].value_counts(normalize=True).rename(\"percentage\").mul(100).reset_index()\n",
    "rates_list.append(rates1)\n",
    "rates_list.append(rates2)"
   ]
  },
  {
   "cell_type": "code",
   "execution_count": 17,
   "metadata": {},
   "outputs": [
    {
     "data": {
      "text/html": [
       "<div>\n",
       "<style scoped>\n",
       "    .dataframe tbody tr th:only-of-type {\n",
       "        vertical-align: middle;\n",
       "    }\n",
       "\n",
       "    .dataframe tbody tr th {\n",
       "        vertical-align: top;\n",
       "    }\n",
       "\n",
       "    .dataframe thead th {\n",
       "        text-align: right;\n",
       "    }\n",
       "</style>\n",
       "<table border=\"1\" class=\"dataframe\">\n",
       "  <thead>\n",
       "    <tr style=\"text-align: right;\">\n",
       "      <th></th>\n",
       "      <th>VMail_Plan</th>\n",
       "      <th>Churn</th>\n",
       "      <th>percentage</th>\n",
       "    </tr>\n",
       "  </thead>\n",
       "  <tbody>\n",
       "    <tr>\n",
       "      <th>0</th>\n",
       "      <td>0</td>\n",
       "      <td>0</td>\n",
       "      <td>83.284944</td>\n",
       "    </tr>\n",
       "    <tr>\n",
       "      <th>1</th>\n",
       "      <td>0</td>\n",
       "      <td>1</td>\n",
       "      <td>16.715056</td>\n",
       "    </tr>\n",
       "    <tr>\n",
       "      <th>2</th>\n",
       "      <td>1</td>\n",
       "      <td>0</td>\n",
       "      <td>91.323210</td>\n",
       "    </tr>\n",
       "    <tr>\n",
       "      <th>3</th>\n",
       "      <td>1</td>\n",
       "      <td>1</td>\n",
       "      <td>8.676790</td>\n",
       "    </tr>\n",
       "  </tbody>\n",
       "</table>\n",
       "</div>"
      ],
      "text/plain": [
       "   VMail_Plan  Churn  percentage\n",
       "0           0      0   83.284944\n",
       "1           0      1   16.715056\n",
       "2           1      0   91.323210\n",
       "3           1      1    8.676790"
      ]
     },
     "execution_count": 17,
     "metadata": {},
     "output_type": "execute_result"
    }
   ],
   "source": [
    "rates_list[1]"
   ]
  },
  {
   "cell_type": "markdown",
   "metadata": {},
   "source": [
    "#### the percentage of costomer churn is higher among customers without VMail_Plan"
   ]
  },
  {
   "cell_type": "code",
   "execution_count": 18,
   "metadata": {},
   "outputs": [
    {
     "data": {
      "image/png": "[encoded data removed]",
      "text/plain": [
       "<Figure size 648x432 with 1 Axes>"
      ]
     },
     "metadata": {
      "needs_background": "light"
     },
     "output_type": "display_data"
    },
    {
     "data": {
      "image/png": "[encoded data removed]",
      "text/plain": [
       "<Figure size 648x432 with 1 Axes>"
      ]
     },
     "metadata": {
      "needs_background": "light"
     },
     "output_type": "display_data"
    }
   ],
   "source": [
    "#creating barplots showing percentage distribution of churn by each category\n",
    "for i in rates_list:\n",
    "    plt.figure(figsize=(9,6))\n",
    "    sns.barplot(x=i.iloc[:,0], y=i.iloc[:,2], hue=i.iloc[:,1])\n",
    "    plt.title(i.columns[0])\n",
    "    plt.show()"
   ]
  },
  {
   "cell_type": "markdown",
   "metadata": {},
   "source": [
    "#### the difference is more obviouse in terms of Int'l_Plan"
   ]
  },
  {
   "cell_type": "code",
   "execution_count": 19,
   "metadata": {},
   "outputs": [],
   "source": [
    "churn_rate=data.groupby(\"State\")[\"Churn\"].value_counts(normalize=True).rename(\"percentage\").mul(100).reset_index()"
   ]
  },
  {
   "cell_type": "code",
   "execution_count": 20,
   "metadata": {},
   "outputs": [
    {
     "data": {
      "image/png": "[encoded data removed]",
      "text/plain": [
       "<Figure size 1152x432 with 1 Axes>"
      ]
     },
     "metadata": {
      "needs_background": "light"
     },
     "output_type": "display_data"
    }
   ],
   "source": [
    "plt.figure(figsize=(16,6))\n",
    "sns.barplot(x=\"State\",y=\"percentage\", hue=\"Churn\",data=churn_rate)\n",
    "plt.title(\"Customer churn rate by States\")\n",
    "plt.show()"
   ]
  },
  {
   "cell_type": "markdown",
   "metadata": {},
   "source": [
    "# 6. Calculate the percentage of churn in your dataset to have some opinion on general accuracy you could benchmark without using any model (naive approach)."
   ]
  },
  {
   "cell_type": "code",
   "execution_count": 21,
   "metadata": {},
   "outputs": [
    {
     "data": {
      "image/png": "[encoded data removed]",
      "text/plain": [
       "<Figure size 648x360 with 1 Axes>"
      ]
     },
     "metadata": {
      "needs_background": "light"
     },
     "output_type": "display_data"
    }
   ],
   "source": [
    "plt.figure(figsize=(9,5))\n",
    "sns.countplot(data.Churn)\n",
    "plt.title(\"Churn distribution\")\n",
    "plt.show()"
   ]
  },
  {
   "cell_type": "code",
   "execution_count": 21,
   "metadata": {},
   "outputs": [
    {
     "data": {
      "text/plain": [
       "0    85.508551\n",
       "1    14.491449\n",
       "Name: Churn percentage, dtype: float64"
      ]
     },
     "execution_count": 21,
     "metadata": {},
     "output_type": "execute_result"
    }
   ],
   "source": [
    "#the benchmark for customer churn\n",
    "data.Churn.value_counts(normalize=True).mul(100).rename(\"Churn percentage\")"
   ]
  },
  {
   "cell_type": "markdown",
   "metadata": {},
   "source": [
    "#### Customer churn is not evenly balanced between 0s and 1s. As the countplot and value counts show, only about 14% of employees are leaving and ~85% are staying.So we can use this info as a naive assumption for newcomers to decide whether they'll leave or stay. In other words, if the resulting score is more than the noted value, then our model will be not bad, otherwise-a bad one."
   ]
  },
  {
   "cell_type": "markdown",
   "metadata": {},
   "source": [
    "#  7. Develop a logistic regression model which estimates the probability of churn as correctly as possible (you may do variable transformations)."
   ]
  },
  {
   "cell_type": "markdown",
   "metadata": {},
   "source": [
    "## Model 1"
   ]
  },
  {
   "cell_type": "code",
   "execution_count": 22,
   "metadata": {},
   "outputs": [
    {
     "data": {
      "text/plain": [
       "['Account_Length',\n",
       " 'VMail_Message',\n",
       " 'Day_Mins',\n",
       " 'Eve_Mins',\n",
       " 'Night_Mins',\n",
       " 'Intl_Mins',\n",
       " 'CustServ_Calls',\n",
       " 'Churn',\n",
       " \"Int'l_Plan\",\n",
       " 'VMail_Plan',\n",
       " 'Day_Calls',\n",
       " 'Day_Charge',\n",
       " 'Eve_Calls',\n",
       " 'Eve_Charge',\n",
       " 'Night_Calls',\n",
       " 'Night_Charge',\n",
       " 'Intl_Calls',\n",
       " 'Intl_Charge',\n",
       " 'State',\n",
       " 'Area_Code']"
      ]
     },
     "execution_count": 22,
     "metadata": {},
     "output_type": "execute_result"
    }
   ],
   "source": [
    "data.columns.tolist()"
   ]
  },
  {
   "cell_type": "code",
   "execution_count": 23,
   "metadata": {},
   "outputs": [],
   "source": [
    "#dropping columns\n",
    "data.drop(['Day_Mins','Eve_Mins','Night_Mins','Intl_Mins','Area_Code','VMail_Message','State'], axis=1,inplace=True)"
   ]
  },
  {
   "cell_type": "code",
   "execution_count": 24,
   "metadata": {},
   "outputs": [],
   "source": [
    "#separating X and Y\n",
    "Y=data[\"Churn\"]\n",
    "X=data.drop(\"Churn\",axis=1)"
   ]
  },
  {
   "cell_type": "code",
   "execution_count": 25,
   "metadata": {},
   "outputs": [
    {
     "name": "stderr",
     "output_type": "stream",
     "text": [
      "C:\\Users\\SONA\\Anaconda3\\lib\\site-packages\\numpy\\core\\fromnumeric.py:2389: FutureWarning: Method .ptp is deprecated and will be removed in a future version. Use numpy.ptp instead.\n",
      "  return ptp(axis=axis, out=out, **kwargs)\n"
     ]
    }
   ],
   "source": [
    "#as we are going to use not formula but X and Y data in the logit function, \n",
    "#so we need to add the intercept to data (X) manually\n",
    "X=sm.add_constant(X)"
   ]
  },
  {
   "cell_type": "code",
   "execution_count": 26,
   "metadata": {},
   "outputs": [],
   "source": [
    "#let's split X and Y data into test and train datasets, test data is 25% of overall data\n",
    "#splitting the data into train and test sets\n",
    "X0, X1, Y0, Y1 = train_test_split(X, Y, test_size=0.25, random_state=42)"
   ]
  },
  {
   "cell_type": "code",
   "execution_count": 27,
   "metadata": {},
   "outputs": [
    {
     "name": "stdout",
     "output_type": "stream",
     "text": [
      "Optimization terminated successfully.\n",
      "         Current function value: 0.324377\n",
      "         Iterations 7\n"
     ]
    }
   ],
   "source": [
    "#constructing the logit model\n",
    "model=Logit(Y0,X0)\n",
    "#fitting the model\n",
    "results=model.fit()"
   ]
  },
  {
   "cell_type": "code",
   "execution_count": 28,
   "metadata": {},
   "outputs": [
    {
     "data": {
      "text/html": [
       "<table class=\"simpletable\">\n",
       "<caption>Logit Regression Results</caption>\n",
       "<tr>\n",
       "  <th>Dep. Variable:</th>         <td>Churn</td>      <th>  No. Observations:  </th>  <td>  2499</td>  \n",
       "</tr>\n",
       "<tr>\n",
       "  <th>Model:</th>                 <td>Logit</td>      <th>  Df Residuals:      </th>  <td>  2486</td>  \n",
       "</tr>\n",
       "<tr>\n",
       "  <th>Method:</th>                 <td>MLE</td>       <th>  Df Model:          </th>  <td>    12</td>  \n",
       "</tr>\n",
       "<tr>\n",
       "  <th>Date:</th>            <td>Wed, 30 Oct 2019</td> <th>  Pseudo R-squ.:     </th>  <td>0.2104</td>  \n",
       "</tr>\n",
       "<tr>\n",
       "  <th>Time:</th>                <td>00:31:49</td>     <th>  Log-Likelihood:    </th> <td> -810.62</td> \n",
       "</tr>\n",
       "<tr>\n",
       "  <th>converged:</th>             <td>True</td>       <th>  LL-Null:           </th> <td> -1026.7</td> \n",
       "</tr>\n",
       "<tr>\n",
       "  <th>Covariance Type:</th>     <td>nonrobust</td>    <th>  LLR p-value:       </th> <td>5.930e-85</td>\n",
       "</tr>\n",
       "</table>\n",
       "<table class=\"simpletable\">\n",
       "<tr>\n",
       "         <td></td>           <th>coef</th>     <th>std err</th>      <th>z</th>      <th>P>|z|</th>  <th>[0.025</th>    <th>0.975]</th>  \n",
       "</tr>\n",
       "<tr>\n",
       "  <th>const</th>          <td>   -7.9670</td> <td>    0.834</td> <td>   -9.558</td> <td> 0.000</td> <td>   -9.601</td> <td>   -6.333</td>\n",
       "</tr>\n",
       "<tr>\n",
       "  <th>Account_Length</th> <td>    0.0006</td> <td>    0.002</td> <td>    0.355</td> <td> 0.723</td> <td>   -0.003</td> <td>    0.004</td>\n",
       "</tr>\n",
       "<tr>\n",
       "  <th>CustServ_Calls</th> <td>    0.5142</td> <td>    0.045</td> <td>   11.529</td> <td> 0.000</td> <td>    0.427</td> <td>    0.602</td>\n",
       "</tr>\n",
       "<tr>\n",
       "  <th>Int'l_Plan</th>     <td>    2.1048</td> <td>    0.167</td> <td>   12.587</td> <td> 0.000</td> <td>    1.777</td> <td>    2.433</td>\n",
       "</tr>\n",
       "<tr>\n",
       "  <th>VMail_Plan</th>     <td>   -0.8717</td> <td>    0.167</td> <td>   -5.212</td> <td> 0.000</td> <td>   -1.200</td> <td>   -0.544</td>\n",
       "</tr>\n",
       "<tr>\n",
       "  <th>Day_Calls</th>      <td>    0.0005</td> <td>    0.003</td> <td>    0.148</td> <td> 0.883</td> <td>   -0.006</td> <td>    0.007</td>\n",
       "</tr>\n",
       "<tr>\n",
       "  <th>Day_Charge</th>     <td>    0.0695</td> <td>    0.007</td> <td>    9.547</td> <td> 0.000</td> <td>    0.055</td> <td>    0.084</td>\n",
       "</tr>\n",
       "<tr>\n",
       "  <th>Eve_Calls</th>      <td>    0.0018</td> <td>    0.003</td> <td>    0.566</td> <td> 0.571</td> <td>   -0.004</td> <td>    0.008</td>\n",
       "</tr>\n",
       "<tr>\n",
       "  <th>Eve_Charge</th>     <td>    0.0767</td> <td>    0.015</td> <td>    4.966</td> <td> 0.000</td> <td>    0.046</td> <td>    0.107</td>\n",
       "</tr>\n",
       "<tr>\n",
       "  <th>Night_Calls</th>    <td>    0.0006</td> <td>    0.003</td> <td>    0.167</td> <td> 0.867</td> <td>   -0.006</td> <td>    0.007</td>\n",
       "</tr>\n",
       "<tr>\n",
       "  <th>Night_Charge</th>   <td>    0.0670</td> <td>    0.029</td> <td>    2.343</td> <td> 0.019</td> <td>    0.011</td> <td>    0.123</td>\n",
       "</tr>\n",
       "<tr>\n",
       "  <th>Intl_Calls</th>     <td>   -0.1059</td> <td>    0.030</td> <td>   -3.540</td> <td> 0.000</td> <td>   -0.165</td> <td>   -0.047</td>\n",
       "</tr>\n",
       "<tr>\n",
       "  <th>Intl_Charge</th>    <td>    0.3561</td> <td>    0.087</td> <td>    4.071</td> <td> 0.000</td> <td>    0.185</td> <td>    0.528</td>\n",
       "</tr>\n",
       "</table>"
      ],
      "text/plain": [
       "<class 'statsmodels.iolib.summary.Summary'>\n",
       "\"\"\"\n",
       "                           Logit Regression Results                           \n",
       "==============================================================================\n",
       "Dep. Variable:                  Churn   No. Observations:                 2499\n",
       "Model:                          Logit   Df Residuals:                     2486\n",
       "Method:                           MLE   Df Model:                           12\n",
       "Date:                Wed, 30 Oct 2019   Pseudo R-squ.:                  0.2104\n",
       "Time:                        00:31:49   Log-Likelihood:                -810.62\n",
       "converged:                       True   LL-Null:                       -1026.7\n",
       "Covariance Type:            nonrobust   LLR p-value:                 5.930e-85\n",
       "==================================================================================\n",
       "                     coef    std err          z      P>|z|      [0.025      0.975]\n",
       "----------------------------------------------------------------------------------\n",
       "const             -7.9670      0.834     -9.558      0.000      -9.601      -6.333\n",
       "Account_Length     0.0006      0.002      0.355      0.723      -0.003       0.004\n",
       "CustServ_Calls     0.5142      0.045     11.529      0.000       0.427       0.602\n",
       "Int'l_Plan         2.1048      0.167     12.587      0.000       1.777       2.433\n",
       "VMail_Plan        -0.8717      0.167     -5.212      0.000      -1.200      -0.544\n",
       "Day_Calls          0.0005      0.003      0.148      0.883      -0.006       0.007\n",
       "Day_Charge         0.0695      0.007      9.547      0.000       0.055       0.084\n",
       "Eve_Calls          0.0018      0.003      0.566      0.571      -0.004       0.008\n",
       "Eve_Charge         0.0767      0.015      4.966      0.000       0.046       0.107\n",
       "Night_Calls        0.0006      0.003      0.167      0.867      -0.006       0.007\n",
       "Night_Charge       0.0670      0.029      2.343      0.019       0.011       0.123\n",
       "Intl_Calls        -0.1059      0.030     -3.540      0.000      -0.165      -0.047\n",
       "Intl_Charge        0.3561      0.087      4.071      0.000       0.185       0.528\n",
       "==================================================================================\n",
       "\"\"\""
      ]
     },
     "execution_count": 28,
     "metadata": {},
     "output_type": "execute_result"
    }
   ],
   "source": [
    "results.summary()"
   ]
  },
  {
   "cell_type": "code",
   "execution_count": 29,
   "metadata": {},
   "outputs": [
    {
     "data": {
      "text/html": [
       "<table class=\"simpletable\">\n",
       "<caption>Logit Marginal Effects</caption>\n",
       "<tr>\n",
       "  <th>Dep. Variable:</th>  <td>Churn</td> \n",
       "</tr>\n",
       "<tr>\n",
       "  <th>Method:</th>         <td>dydx</td>  \n",
       "</tr>\n",
       "<tr>\n",
       "  <th>At:</th>            <td>overall</td>\n",
       "</tr>\n",
       "</table>\n",
       "<table class=\"simpletable\">\n",
       "<tr>\n",
       "         <th></th>           <th>dy/dx</th>    <th>std err</th>      <th>z</th>      <th>P>|z|</th>  <th>[0.025</th>    <th>0.975]</th>  \n",
       "</tr>\n",
       "<tr>\n",
       "  <th>Account_Length</th> <td> 5.671e-05</td> <td>    0.000</td> <td>    0.355</td> <td> 0.723</td> <td>   -0.000</td> <td>    0.000</td>\n",
       "</tr>\n",
       "<tr>\n",
       "  <th>CustServ_Calls</th> <td>    0.0501</td> <td>    0.004</td> <td>   12.270</td> <td> 0.000</td> <td>    0.042</td> <td>    0.058</td>\n",
       "</tr>\n",
       "<tr>\n",
       "  <th>Int'l_Plan</th>     <td>    0.2049</td> <td>    0.015</td> <td>   13.915</td> <td> 0.000</td> <td>    0.176</td> <td>    0.234</td>\n",
       "</tr>\n",
       "<tr>\n",
       "  <th>VMail_Plan</th>     <td>   -0.0849</td> <td>    0.016</td> <td>   -5.256</td> <td> 0.000</td> <td>   -0.116</td> <td>   -0.053</td>\n",
       "</tr>\n",
       "<tr>\n",
       "  <th>Day_Calls</th>      <td> 4.541e-05</td> <td>    0.000</td> <td>    0.148</td> <td> 0.883</td> <td>   -0.001</td> <td>    0.001</td>\n",
       "</tr>\n",
       "<tr>\n",
       "  <th>Day_Charge</th>     <td>    0.0068</td> <td>    0.001</td> <td>    9.904</td> <td> 0.000</td> <td>    0.005</td> <td>    0.008</td>\n",
       "</tr>\n",
       "<tr>\n",
       "  <th>Eve_Calls</th>      <td>    0.0002</td> <td>    0.000</td> <td>    0.566</td> <td> 0.571</td> <td>   -0.000</td> <td>    0.001</td>\n",
       "</tr>\n",
       "<tr>\n",
       "  <th>Eve_Charge</th>     <td>    0.0075</td> <td>    0.001</td> <td>    5.008</td> <td> 0.000</td> <td>    0.005</td> <td>    0.010</td>\n",
       "</tr>\n",
       "<tr>\n",
       "  <th>Night_Calls</th>    <td> 5.362e-05</td> <td>    0.000</td> <td>    0.167</td> <td> 0.867</td> <td>   -0.001</td> <td>    0.001</td>\n",
       "</tr>\n",
       "<tr>\n",
       "  <th>Night_Charge</th>   <td>    0.0065</td> <td>    0.003</td> <td>    2.347</td> <td> 0.019</td> <td>    0.001</td> <td>    0.012</td>\n",
       "</tr>\n",
       "<tr>\n",
       "  <th>Intl_Calls</th>     <td>   -0.0103</td> <td>    0.003</td> <td>   -3.552</td> <td> 0.000</td> <td>   -0.016</td> <td>   -0.005</td>\n",
       "</tr>\n",
       "<tr>\n",
       "  <th>Intl_Charge</th>    <td>    0.0347</td> <td>    0.008</td> <td>    4.100</td> <td> 0.000</td> <td>    0.018</td> <td>    0.051</td>\n",
       "</tr>\n",
       "</table>"
      ],
      "text/plain": [
       "<class 'statsmodels.iolib.summary.Summary'>\n",
       "\"\"\"\n",
       "        Logit Marginal Effects       \n",
       "=====================================\n",
       "Dep. Variable:                  Churn\n",
       "Method:                          dydx\n",
       "At:                           overall\n",
       "==================================================================================\n",
       "                    dy/dx    std err          z      P>|z|      [0.025      0.975]\n",
       "----------------------------------------------------------------------------------\n",
       "Account_Length  5.671e-05      0.000      0.355      0.723      -0.000       0.000\n",
       "CustServ_Calls     0.0501      0.004     12.270      0.000       0.042       0.058\n",
       "Int'l_Plan         0.2049      0.015     13.915      0.000       0.176       0.234\n",
       "VMail_Plan        -0.0849      0.016     -5.256      0.000      -0.116      -0.053\n",
       "Day_Calls       4.541e-05      0.000      0.148      0.883      -0.001       0.001\n",
       "Day_Charge         0.0068      0.001      9.904      0.000       0.005       0.008\n",
       "Eve_Calls          0.0002      0.000      0.566      0.571      -0.000       0.001\n",
       "Eve_Charge         0.0075      0.001      5.008      0.000       0.005       0.010\n",
       "Night_Calls     5.362e-05      0.000      0.167      0.867      -0.001       0.001\n",
       "Night_Charge       0.0065      0.003      2.347      0.019       0.001       0.012\n",
       "Intl_Calls        -0.0103      0.003     -3.552      0.000      -0.016      -0.005\n",
       "Intl_Charge        0.0347      0.008      4.100      0.000       0.018       0.051\n",
       "==================================================================================\n",
       "\"\"\""
      ]
     },
     "execution_count": 29,
     "metadata": {},
     "output_type": "execute_result"
    }
   ],
   "source": [
    "results.get_margeff().summary()\n"
   ]
  },
  {
   "cell_type": "code",
   "execution_count": 30,
   "metadata": {},
   "outputs": [],
   "source": [
    "#predicting for train and test data\n",
    "Y1_logit=results.predict(sm.add_constant(X1))\n",
    "Y0_logit=results.predict(X0)"
   ]
  },
  {
   "cell_type": "code",
   "execution_count": 31,
   "metadata": {},
   "outputs": [],
   "source": [
    "#converting probabilities into labels\n",
    "Y1_logit=np.where(Y1_logit>=0.5,1,0)\n",
    "Y0_logit=np.where(Y0_logit>=0.5,1,0)"
   ]
  },
  {
   "cell_type": "code",
   "execution_count": 32,
   "metadata": {},
   "outputs": [],
   "source": [
    "#Using confusion matrix for train and test data\n",
    "cm_train=confusion_matrix(Y0,Y0_logit).T"
   ]
  },
  {
   "cell_type": "code",
   "execution_count": 33,
   "metadata": {},
   "outputs": [
    {
     "name": "stdout",
     "output_type": "stream",
     "text": [
      "Accuracy_train: 0.8639455782312925\n",
      "Sensitivity_train: 0.5661764705882353\n",
      "Specificity_train: 0.8810833685992383\n"
     ]
    }
   ],
   "source": [
    "#let's calculate overall accuracy, recall and specificity for train data\n",
    "print(\"Accuracy_train:\", (cm_train[0,0]+cm_train[1,1])/len(Y0))\n",
    "print(\"Sensitivity_train:\",cm_train[1,1]/(cm_train[1,1]+cm_train[1,0]))\n",
    "print(\"Specificity_train:\",cm_train[0,0]/(cm_train[0,0]+cm_train[0,1]))"
   ]
  },
  {
   "cell_type": "code",
   "execution_count": 34,
   "metadata": {},
   "outputs": [],
   "source": [
    "#confusion matrix for the test data\n",
    "cm_test=confusion_matrix(Y1,Y1_logit).T"
   ]
  },
  {
   "cell_type": "code",
   "execution_count": 35,
   "metadata": {},
   "outputs": [
    {
     "name": "stdout",
     "output_type": "stream",
     "text": [
      "Accuracy_test: 0.8609112709832134\n",
      "Sensitivity_test: 0.6046511627906976\n",
      "Specificity_test: 0.8748419721871049\n"
     ]
    }
   ],
   "source": [
    "#let's calculate overall accuracy, recall and specificity for train data\n",
    "print(\"Accuracy_test:\", (cm_test[0,0]+cm_test[1,1])/len(Y1))\n",
    "print(\"Sensitivity_test:\",cm_test[1,1]/(cm_test[1,1]+cm_test[1,0]))\n",
    "print(\"Specificity_test:\",cm_test[0,0]/(cm_test[0,0]+cm_test[0,1]))"
   ]
  },
  {
   "cell_type": "code",
   "execution_count": 36,
   "metadata": {},
   "outputs": [
    {
     "name": "stdout",
     "output_type": "stream",
     "text": [
      "Logistic Regression Train:\n",
      "              precision    recall  f1-score   support\n",
      "\n",
      "           0       0.88      0.97      0.92      2141\n",
      "           1       0.57      0.22      0.31       358\n",
      "\n",
      "    accuracy                           0.86      2499\n",
      "   macro avg       0.72      0.59      0.62      2499\n",
      "weighted avg       0.84      0.86      0.84      2499\n",
      "\n",
      "Logistic Regression Test:\n",
      "              precision    recall  f1-score   support\n",
      "\n",
      "           0       0.87      0.98      0.92       709\n",
      "           1       0.60      0.21      0.31       125\n",
      "\n",
      "    accuracy                           0.86       834\n",
      "   macro avg       0.74      0.59      0.62       834\n",
      "weighted avg       0.83      0.86      0.83       834\n",
      "\n"
     ]
    }
   ],
   "source": [
    "#calculating using classification report\n",
    "print(\"Logistic Regression Train:\")\n",
    "print(classification_report(Y0,Y0_logit))\n",
    "\n",
    "print(\"Logistic Regression Test:\")\n",
    "print(classification_report(Y1,Y1_logit))"
   ]
  },
  {
   "cell_type": "code",
   "execution_count": 79,
   "metadata": {},
   "outputs": [
    {
     "data": {
      "text/html": [
       "<div>\n",
       "<style scoped>\n",
       "    .dataframe tbody tr th:only-of-type {\n",
       "        vertical-align: middle;\n",
       "    }\n",
       "\n",
       "    .dataframe tbody tr th {\n",
       "        vertical-align: top;\n",
       "    }\n",
       "\n",
       "    .dataframe thead th {\n",
       "        text-align: right;\n",
       "    }\n",
       "</style>\n",
       "<table border=\"1\" class=\"dataframe\">\n",
       "  <thead>\n",
       "    <tr style=\"text-align: right;\">\n",
       "      <th></th>\n",
       "      <th>Accuracy</th>\n",
       "      <th>ROC_AUC</th>\n",
       "      <th>Recall</th>\n",
       "    </tr>\n",
       "  </thead>\n",
       "  <tbody>\n",
       "    <tr>\n",
       "      <th>Training set</th>\n",
       "      <td>0.863946</td>\n",
       "      <td>0.593763</td>\n",
       "      <td>0.215084</td>\n",
       "    </tr>\n",
       "    <tr>\n",
       "      <th>Testing set</th>\n",
       "      <td>0.860911</td>\n",
       "      <td>0.592011</td>\n",
       "      <td>0.208000</td>\n",
       "    </tr>\n",
       "  </tbody>\n",
       "</table>\n",
       "</div>"
      ],
      "text/plain": [
       "              Accuracy   ROC_AUC    Recall\n",
       "Training set  0.863946  0.593763  0.215084\n",
       "Testing set   0.860911  0.592011  0.208000"
      ]
     },
     "execution_count": 79,
     "metadata": {},
     "output_type": "execute_result"
    }
   ],
   "source": [
    "#summarizing the results into a dataframe\n",
    "results_summary=pd.DataFrame({\"Accuracy\":[accuracy_score(Y0,Y0_logit),accuracy_score(Y1,Y1_logit)],\n",
    "                              \"ROC_AUC\":[roc_auc_score(Y0,Y0_logit),roc_auc_score(Y1, Y1_logit)],\n",
    "                              \"Recall\":[recall_score(Y0, Y0_logit),recall_score(Y1, Y1_logit)]\n",
    "                              },\n",
    "                             index=[\"Training set\",\"Testing set\"])\n",
    "results_summary"
   ]
  },
  {
   "cell_type": "markdown",
   "metadata": {},
   "source": [
    "## Model 2    "
   ]
  },
  {
   "cell_type": "code",
   "execution_count": 38,
   "metadata": {},
   "outputs": [],
   "source": [
    "# let's make some transformation "
   ]
  },
  {
   "cell_type": "code",
   "execution_count": 39,
   "metadata": {},
   "outputs": [],
   "source": [
    "data2=data=pd.read_excel(\"Telecom_Churn.xls\")"
   ]
  },
  {
   "cell_type": "code",
   "execution_count": 40,
   "metadata": {},
   "outputs": [],
   "source": [
    "data2.columns = data2.columns.str.replace(\" \", \"_\")"
   ]
  },
  {
   "cell_type": "code",
   "execution_count": 41,
   "metadata": {},
   "outputs": [],
   "source": [
    "# Let's ceate a single variable for Day_Charge,Eve_Charge,Night_Charge,Intl_Charge, so we will have one variable : total_charge\n",
    "data2[\"Total_charge\"]= data2[\"Day_Charge\"]+ data2[\"Eve_Charge\"]+ data2[\"Night_Charge\"]+ data2[\"Intl_Charge\"]\n"
   ]
  },
  {
   "cell_type": "code",
   "execution_count": 42,
   "metadata": {},
   "outputs": [],
   "source": [
    "data2.drop([\"Day_Charge\",\"Eve_Charge\",\"Night_Charge\",\"Intl_Charge\"], axis=1, inplace=True)"
   ]
  },
  {
   "cell_type": "code",
   "execution_count": 43,
   "metadata": {},
   "outputs": [],
   "source": [
    "data2.drop([\"Area_Code\",\"State\",\"Phone\",\"VMail_Message\"],axis=1, inplace=True)"
   ]
  },
  {
   "cell_type": "code",
   "execution_count": 44,
   "metadata": {},
   "outputs": [
    {
     "name": "stdout",
     "output_type": "stream",
     "text": [
      "<class 'pandas.core.frame.DataFrame'>\n",
      "RangeIndex: 3333 entries, 0 to 3332\n",
      "Data columns (total 14 columns):\n",
      "Account_Length    3333 non-null int64\n",
      "Day_Mins          3333 non-null float64\n",
      "Eve_Mins          3333 non-null float64\n",
      "Night_Mins        3333 non-null float64\n",
      "Intl_Mins         3333 non-null float64\n",
      "CustServ_Calls    3333 non-null int64\n",
      "Churn             3333 non-null int64\n",
      "Int'l_Plan        3333 non-null int64\n",
      "VMail_Plan        3333 non-null int64\n",
      "Day_Calls         3333 non-null int64\n",
      "Eve_Calls         3333 non-null int64\n",
      "Night_Calls       3333 non-null int64\n",
      "Intl_Calls        3333 non-null int64\n",
      "Total_charge      3333 non-null float64\n",
      "dtypes: float64(5), int64(9)\n",
      "memory usage: 364.6 KB\n"
     ]
    }
   ],
   "source": [
    "data2.info()"
   ]
  },
  {
   "cell_type": "code",
   "execution_count": 45,
   "metadata": {},
   "outputs": [],
   "source": [
    "#separating X and Y\n",
    "Y_2=data2[\"Churn\"]\n",
    "X_2=data2.drop(\"Churn\",axis=1)"
   ]
  },
  {
   "cell_type": "code",
   "execution_count": 46,
   "metadata": {},
   "outputs": [
    {
     "name": "stderr",
     "output_type": "stream",
     "text": [
      "C:\\Users\\SONA\\Anaconda3\\lib\\site-packages\\numpy\\core\\fromnumeric.py:2389: FutureWarning: Method .ptp is deprecated and will be removed in a future version. Use numpy.ptp instead.\n",
      "  return ptp(axis=axis, out=out, **kwargs)\n"
     ]
    }
   ],
   "source": [
    "#as we are going to use not formula but X and Y data in the logit function, \n",
    "#so we need to add the intercept to data (X) manually\n",
    "X_2=sm.add_constant(X_2)"
   ]
  },
  {
   "cell_type": "code",
   "execution_count": 47,
   "metadata": {},
   "outputs": [],
   "source": [
    "#let's split X and Y data into test and train datasets, test data is 25% of overall data\n",
    "#splitting the data into train and test sets\n",
    "X_20, X_21, Y_20, Y_21 = train_test_split(X_2, Y_2, test_size=0.25, random_state=42)"
   ]
  },
  {
   "cell_type": "code",
   "execution_count": 48,
   "metadata": {},
   "outputs": [
    {
     "name": "stdout",
     "output_type": "stream",
     "text": [
      "Optimization terminated successfully.\n",
      "         Current function value: 0.324370\n",
      "         Iterations 7\n"
     ]
    }
   ],
   "source": [
    "#constructing the logit model\n",
    "model2=Logit(Y_20,X_20)\n",
    "#fitting the model\n",
    "results2=model2.fit()"
   ]
  },
  {
   "cell_type": "code",
   "execution_count": 49,
   "metadata": {},
   "outputs": [],
   "source": [
    "#predicting for train and test data\n",
    "Y_21_logit=results2.predict(sm.add_constant(X_21))\n",
    "Y_20_logit=results2.predict(X_20)"
   ]
  },
  {
   "cell_type": "code",
   "execution_count": 50,
   "metadata": {},
   "outputs": [],
   "source": [
    "#converting probabilities into labels\n",
    "Y_21_logit=np.where(Y_21_logit>=0.5,1,0)\n",
    "Y_20_logit=np.where(Y_20_logit>=0.5,1,0)"
   ]
  },
  {
   "cell_type": "code",
   "execution_count": 51,
   "metadata": {},
   "outputs": [],
   "source": [
    "#Using confusion matrix for train and test data\n",
    "cm_train2=confusion_matrix(Y_20,Y_20_logit).T"
   ]
  },
  {
   "cell_type": "code",
   "execution_count": 52,
   "metadata": {},
   "outputs": [
    {
     "name": "stdout",
     "output_type": "stream",
     "text": [
      "Accuracy_train: 0.8639455782312925\n",
      "Sensitivity_train: 0.5661764705882353\n",
      "Specificity_train: 0.8810833685992383\n"
     ]
    }
   ],
   "source": [
    "#let's calculate overall accuracy, recall and specificity for train data\n",
    "print(\"Accuracy_train:\", (cm_train2[0,0]+cm_train2[1,1])/len(Y0))\n",
    "print(\"Sensitivity_train:\",cm_train2[1,1]/(cm_train2[1,1]+cm_train2[1,0]))\n",
    "print(\"Specificity_train:\",cm_train2[0,0]/(cm_train2[0,0]+cm_train2[0,1]))"
   ]
  },
  {
   "cell_type": "code",
   "execution_count": 53,
   "metadata": {},
   "outputs": [],
   "source": [
    "#confusion matrix for the test data\n",
    "cm_test2=confusion_matrix(Y_21,Y_21_logit).T"
   ]
  },
  {
   "cell_type": "code",
   "execution_count": 54,
   "metadata": {},
   "outputs": [
    {
     "name": "stdout",
     "output_type": "stream",
     "text": [
      "Accuracy_test: 0.8597122302158273\n",
      "Sensitivity_test: 0.5952380952380952\n",
      "Specificity_test: 0.8737373737373737\n"
     ]
    }
   ],
   "source": [
    "#let's calculate overall accuracy, recall and specificity for train data\n",
    "print(\"Accuracy_test:\", (cm_test2[0,0]+cm_test2[1,1])/len(Y1))\n",
    "print(\"Sensitivity_test:\",cm_test2[1,1]/(cm_test2[1,1]+cm_test2[1,0]))\n",
    "print(\"Specificity_test:\",cm_test2[0,0]/(cm_test2[0,0]+cm_test2[0,1]))"
   ]
  },
  {
   "cell_type": "code",
   "execution_count": 55,
   "metadata": {},
   "outputs": [
    {
     "name": "stdout",
     "output_type": "stream",
     "text": [
      "Logistic Regression Train:\n",
      "              precision    recall  f1-score   support\n",
      "\n",
      "           0       0.88      0.97      0.92      2141\n",
      "           1       0.57      0.22      0.31       358\n",
      "\n",
      "    accuracy                           0.86      2499\n",
      "   macro avg       0.72      0.59      0.62      2499\n",
      "weighted avg       0.84      0.86      0.84      2499\n",
      "\n",
      "Logistic Regression Test:\n",
      "              precision    recall  f1-score   support\n",
      "\n",
      "           0       0.87      0.98      0.92       709\n",
      "           1       0.60      0.20      0.30       125\n",
      "\n",
      "    accuracy                           0.86       834\n",
      "   macro avg       0.73      0.59      0.61       834\n",
      "weighted avg       0.83      0.86      0.83       834\n",
      "\n"
     ]
    }
   ],
   "source": [
    "#calculating using classification report\n",
    "print(\"Logistic Regression Train:\")\n",
    "print(classification_report(Y_20,Y_20_logit))\n",
    "\n",
    "print(\"Logistic Regression Test:\")\n",
    "print(classification_report(Y_21,Y_21_logit))"
   ]
  },
  {
   "cell_type": "code",
   "execution_count": 56,
   "metadata": {},
   "outputs": [
    {
     "data": {
      "text/html": [
       "<div>\n",
       "<style scoped>\n",
       "    .dataframe tbody tr th:only-of-type {\n",
       "        vertical-align: middle;\n",
       "    }\n",
       "\n",
       "    .dataframe tbody tr th {\n",
       "        vertical-align: top;\n",
       "    }\n",
       "\n",
       "    .dataframe thead th {\n",
       "        text-align: right;\n",
       "    }\n",
       "</style>\n",
       "<table border=\"1\" class=\"dataframe\">\n",
       "  <thead>\n",
       "    <tr style=\"text-align: right;\">\n",
       "      <th></th>\n",
       "      <th>Accuracy</th>\n",
       "      <th>ROC_AUC</th>\n",
       "      <th>Recall</th>\n",
       "    </tr>\n",
       "  </thead>\n",
       "  <tbody>\n",
       "    <tr>\n",
       "      <th>Training set</th>\n",
       "      <td>0.863946</td>\n",
       "      <td>0.593763</td>\n",
       "      <td>0.215084</td>\n",
       "    </tr>\n",
       "    <tr>\n",
       "      <th>Testing set</th>\n",
       "      <td>0.859712</td>\n",
       "      <td>0.588011</td>\n",
       "      <td>0.200000</td>\n",
       "    </tr>\n",
       "  </tbody>\n",
       "</table>\n",
       "</div>"
      ],
      "text/plain": [
       "              Accuracy   ROC_AUC    Recall\n",
       "Training set  0.863946  0.593763  0.215084\n",
       "Testing set   0.859712  0.588011  0.200000"
      ]
     },
     "execution_count": 56,
     "metadata": {},
     "output_type": "execute_result"
    }
   ],
   "source": [
    "#summarizing the results into a dataframe\n",
    "results_summary2=pd.DataFrame({\"Accuracy\":[accuracy_score(Y_20,Y_20_logit),accuracy_score(Y_21,Y_21_logit)],\n",
    "                              \"ROC_AUC\":[roc_auc_score(Y_20,Y_20_logit),roc_auc_score(Y_21, Y_21_logit)],\n",
    "                              \"Recall\":[recall_score(Y_20, Y_20_logit),recall_score(Y_21, Y_21_logit)]\n",
    "                              },\n",
    "                             index=[\"Training set\",\"Testing set\"])\n",
    "results_summary2"
   ]
  },
  {
   "cell_type": "markdown",
   "metadata": {},
   "source": [
    "# Model 3"
   ]
  },
  {
   "cell_type": "code",
   "execution_count": 57,
   "metadata": {},
   "outputs": [],
   "source": [
    "# Let's make some transformation on data\n",
    "# Let's ceate a single variable for Day_Calls,Eve_Calls,Night_Calls,Intl_Calls, so we will have one variable : total_calls\n",
    "data[\"Total_calls\"]= data[\"Day_Calls\"]+ data[\"Eve_Calls\"]+ data[\"Night_Calls\"]+ data[\"Intl_Calls\"]"
   ]
  },
  {
   "cell_type": "code",
   "execution_count": 58,
   "metadata": {},
   "outputs": [],
   "source": [
    "data.drop([\"Day_Calls\",\"Eve_Calls\",\"Night_Calls\",\"Intl_Calls\"],axis=1, inplace=True)"
   ]
  },
  {
   "cell_type": "code",
   "execution_count": 59,
   "metadata": {},
   "outputs": [
    {
     "name": "stdout",
     "output_type": "stream",
     "text": [
      "<class 'pandas.core.frame.DataFrame'>\n",
      "RangeIndex: 3333 entries, 0 to 3332\n",
      "Data columns (total 11 columns):\n",
      "Account_Length    3333 non-null int64\n",
      "Day_Mins          3333 non-null float64\n",
      "Eve_Mins          3333 non-null float64\n",
      "Night_Mins        3333 non-null float64\n",
      "Intl_Mins         3333 non-null float64\n",
      "CustServ_Calls    3333 non-null int64\n",
      "Churn             3333 non-null int64\n",
      "Int'l_Plan        3333 non-null int64\n",
      "VMail_Plan        3333 non-null int64\n",
      "Total_charge      3333 non-null float64\n",
      "Total_calls       3333 non-null int64\n",
      "dtypes: float64(5), int64(6)\n",
      "memory usage: 286.5 KB\n"
     ]
    }
   ],
   "source": [
    "data.info()"
   ]
  },
  {
   "cell_type": "code",
   "execution_count": 60,
   "metadata": {},
   "outputs": [],
   "source": [
    "#separating X and Y\n",
    "Y_3=data[\"Churn\"]\n",
    "X_3=data.drop(\"Churn\",axis=1)"
   ]
  },
  {
   "cell_type": "code",
   "execution_count": 61,
   "metadata": {},
   "outputs": [
    {
     "name": "stderr",
     "output_type": "stream",
     "text": [
      "C:\\Users\\SONA\\Anaconda3\\lib\\site-packages\\numpy\\core\\fromnumeric.py:2389: FutureWarning: Method .ptp is deprecated and will be removed in a future version. Use numpy.ptp instead.\n",
      "  return ptp(axis=axis, out=out, **kwargs)\n"
     ]
    }
   ],
   "source": [
    "#as we are going to use not formula but X and Y data in the logit function, \n",
    "#so we need to add the intercept to data (X) manually\n",
    "X_3=sm.add_constant(X_3)"
   ]
  },
  {
   "cell_type": "code",
   "execution_count": 62,
   "metadata": {},
   "outputs": [],
   "source": [
    "#let's split X and Y data into test and train datasets, test data is 25% of overall data\n",
    "#splitting the data into train and test sets\n",
    "X_30, X_31, Y_30, Y_31 = train_test_split(X_3, Y_3, test_size=0.25, random_state=42)"
   ]
  },
  {
   "cell_type": "code",
   "execution_count": 63,
   "metadata": {},
   "outputs": [
    {
     "name": "stdout",
     "output_type": "stream",
     "text": [
      "Optimization terminated successfully.\n",
      "         Current function value: 0.327098\n",
      "         Iterations 7\n"
     ]
    }
   ],
   "source": [
    "#constructing the logit model\n",
    "model3=Logit(Y_30,X_30)\n",
    "#fitting the model\n",
    "results3=model3.fit()"
   ]
  },
  {
   "cell_type": "code",
   "execution_count": 64,
   "metadata": {},
   "outputs": [],
   "source": [
    "#predicting for train and test data\n",
    "Y_31_logit=results3.predict(sm.add_constant(X_31))\n",
    "Y_30_logit=results3.predict(X_30)"
   ]
  },
  {
   "cell_type": "code",
   "execution_count": 65,
   "metadata": {},
   "outputs": [],
   "source": [
    "#converting probabilities into labels\n",
    "Y_31_logit=np.where(Y_31_logit>=0.5,1,0)\n",
    "Y_30_logit=np.where(Y_30_logit>=0.5,1,0)"
   ]
  },
  {
   "cell_type": "code",
   "execution_count": 66,
   "metadata": {},
   "outputs": [],
   "source": [
    "#Using confusion matrix for train and test data\n",
    "cm_train3=confusion_matrix(Y_30,Y_30_logit).T"
   ]
  },
  {
   "cell_type": "code",
   "execution_count": 67,
   "metadata": {},
   "outputs": [
    {
     "name": "stdout",
     "output_type": "stream",
     "text": [
      "Accuracy_train: 0.8615446178471389\n",
      "Sensitivity_train: 0.5526315789473685\n",
      "Specificity_train: 0.8763102725366876\n"
     ]
    }
   ],
   "source": [
    "#let's calculate overall accuracy, recall and specificity for train data\n",
    "print(\"Accuracy_train:\", (cm_train3[0,0]+cm_train3[1,1])/len(Y0))\n",
    "print(\"Sensitivity_train:\",cm_train3[1,1]/(cm_train3[1,1]+cm_train3[1,0]))\n",
    "print(\"Specificity_train:\",cm_train3[0,0]/(cm_train3[0,0]+cm_train3[0,1]))"
   ]
  },
  {
   "cell_type": "code",
   "execution_count": 68,
   "metadata": {},
   "outputs": [],
   "source": [
    "#confusion matrix for the test data\n",
    "cm_test3=confusion_matrix(Y_31,Y_31_logit).T"
   ]
  },
  {
   "cell_type": "code",
   "execution_count": 69,
   "metadata": {},
   "outputs": [
    {
     "name": "stdout",
     "output_type": "stream",
     "text": [
      "Accuracy_test: 0.8585131894484412\n",
      "Sensitivity_test: 0.5945945945945946\n",
      "Specificity_test: 0.8707653701380176\n"
     ]
    }
   ],
   "source": [
    "#let's calculate overall accuracy, recall and specificity for train data\n",
    "print(\"Accuracy_test:\", (cm_test3[0,0]+cm_test3[1,1])/len(Y1))\n",
    "print(\"Sensitivity_test:\",cm_test3[1,1]/(cm_test3[1,1]+cm_test3[1,0]))\n",
    "print(\"Specificity_test:\",cm_test3[0,0]/(cm_test3[0,0]+cm_test3[0,1]))"
   ]
  },
  {
   "cell_type": "code",
   "execution_count": 70,
   "metadata": {},
   "outputs": [
    {
     "name": "stdout",
     "output_type": "stream",
     "text": [
      "Logistic Regression Train:\n",
      "              precision    recall  f1-score   support\n",
      "\n",
      "           0       0.88      0.98      0.92      2141\n",
      "           1       0.55      0.18      0.27       358\n",
      "\n",
      "    accuracy                           0.86      2499\n",
      "   macro avg       0.71      0.58      0.60      2499\n",
      "weighted avg       0.83      0.86      0.83      2499\n",
      "\n",
      "Logistic Regression Test:\n",
      "              precision    recall  f1-score   support\n",
      "\n",
      "           0       0.87      0.98      0.92       709\n",
      "           1       0.59      0.18      0.27       125\n",
      "\n",
      "    accuracy                           0.86       834\n",
      "   macro avg       0.73      0.58      0.60       834\n",
      "weighted avg       0.83      0.86      0.82       834\n",
      "\n"
     ]
    }
   ],
   "source": [
    "#calculating using classification report\n",
    "print(\"Logistic Regression Train:\")\n",
    "print(classification_report(Y_30,Y_30_logit))\n",
    "\n",
    "print(\"Logistic Regression Test:\")\n",
    "print(classification_report(Y_31,Y_31_logit))"
   ]
  },
  {
   "cell_type": "code",
   "execution_count": 71,
   "metadata": {},
   "outputs": [
    {
     "data": {
      "text/html": [
       "<div>\n",
       "<style scoped>\n",
       "    .dataframe tbody tr th:only-of-type {\n",
       "        vertical-align: middle;\n",
       "    }\n",
       "\n",
       "    .dataframe tbody tr th {\n",
       "        vertical-align: top;\n",
       "    }\n",
       "\n",
       "    .dataframe thead th {\n",
       "        text-align: right;\n",
       "    }\n",
       "</style>\n",
       "<table border=\"1\" class=\"dataframe\">\n",
       "  <thead>\n",
       "    <tr style=\"text-align: right;\">\n",
       "      <th></th>\n",
       "      <th>Accuracy</th>\n",
       "      <th>ROC_AUC</th>\n",
       "      <th>Recall</th>\n",
       "    </tr>\n",
       "  </thead>\n",
       "  <tbody>\n",
       "    <tr>\n",
       "      <th>Training set</th>\n",
       "      <td>0.861545</td>\n",
       "      <td>0.576079</td>\n",
       "      <td>0.175978</td>\n",
       "    </tr>\n",
       "    <tr>\n",
       "      <th>Testing set</th>\n",
       "      <td>0.858513</td>\n",
       "      <td>0.577422</td>\n",
       "      <td>0.176000</td>\n",
       "    </tr>\n",
       "  </tbody>\n",
       "</table>\n",
       "</div>"
      ],
      "text/plain": [
       "              Accuracy   ROC_AUC    Recall\n",
       "Training set  0.861545  0.576079  0.175978\n",
       "Testing set   0.858513  0.577422  0.176000"
      ]
     },
     "execution_count": 71,
     "metadata": {},
     "output_type": "execute_result"
    }
   ],
   "source": [
    "#summarizing the results into a dataframe\n",
    "results_summary3=pd.DataFrame({\"Accuracy\":[accuracy_score(Y_30,Y_30_logit),accuracy_score(Y_31,Y_31_logit)],\n",
    "                              \"ROC_AUC\":[roc_auc_score(Y_30,Y_30_logit),roc_auc_score(Y_31, Y_31_logit)],\n",
    "                              \"Recall\":[recall_score(Y_30, Y_30_logit),recall_score(Y_31, Y_31_logit)]\n",
    "                              },\n",
    "                             index=[\"Training set\",\"Testing set\"])\n",
    "results_summary3"
   ]
  },
  {
   "cell_type": "markdown",
   "metadata": {},
   "source": [
    "# 9. Interpret the winner model (marginal effects of logistic regression)"
   ]
  },
  {
   "cell_type": "markdown",
   "metadata": {},
   "source": [
    "## the winner model is Model 1 as its measures (Sensitivity, Specificity, ROC AUC) are higher on both Train and Test sets than those of others\n",
    "## 1st and 2nd models have almost identical measures however recall in Test set is higher."
   ]
  },
  {
   "cell_type": "markdown",
   "metadata": {},
   "source": [
    "## The Main output Summary of Model 1"
   ]
  },
  {
   "cell_type": "code",
   "execution_count": 73,
   "metadata": {},
   "outputs": [
    {
     "data": {
      "text/html": [
       "<table class=\"simpletable\">\n",
       "<caption>Logit Regression Results</caption>\n",
       "<tr>\n",
       "  <th>Dep. Variable:</th>         <td>Churn</td>      <th>  No. Observations:  </th>  <td>  2499</td>  \n",
       "</tr>\n",
       "<tr>\n",
       "  <th>Model:</th>                 <td>Logit</td>      <th>  Df Residuals:      </th>  <td>  2486</td>  \n",
       "</tr>\n",
       "<tr>\n",
       "  <th>Method:</th>                 <td>MLE</td>       <th>  Df Model:          </th>  <td>    12</td>  \n",
       "</tr>\n",
       "<tr>\n",
       "  <th>Date:</th>            <td>Wed, 30 Oct 2019</td> <th>  Pseudo R-squ.:     </th>  <td>0.2104</td>  \n",
       "</tr>\n",
       "<tr>\n",
       "  <th>Time:</th>                <td>00:41:54</td>     <th>  Log-Likelihood:    </th> <td> -810.62</td> \n",
       "</tr>\n",
       "<tr>\n",
       "  <th>converged:</th>             <td>True</td>       <th>  LL-Null:           </th> <td> -1026.7</td> \n",
       "</tr>\n",
       "<tr>\n",
       "  <th>Covariance Type:</th>     <td>nonrobust</td>    <th>  LLR p-value:       </th> <td>5.930e-85</td>\n",
       "</tr>\n",
       "</table>\n",
       "<table class=\"simpletable\">\n",
       "<tr>\n",
       "         <td></td>           <th>coef</th>     <th>std err</th>      <th>z</th>      <th>P>|z|</th>  <th>[0.025</th>    <th>0.975]</th>  \n",
       "</tr>\n",
       "<tr>\n",
       "  <th>const</th>          <td>   -7.9670</td> <td>    0.834</td> <td>   -9.558</td> <td> 0.000</td> <td>   -9.601</td> <td>   -6.333</td>\n",
       "</tr>\n",
       "<tr>\n",
       "  <th>Account_Length</th> <td>    0.0006</td> <td>    0.002</td> <td>    0.355</td> <td> 0.723</td> <td>   -0.003</td> <td>    0.004</td>\n",
       "</tr>\n",
       "<tr>\n",
       "  <th>CustServ_Calls</th> <td>    0.5142</td> <td>    0.045</td> <td>   11.529</td> <td> 0.000</td> <td>    0.427</td> <td>    0.602</td>\n",
       "</tr>\n",
       "<tr>\n",
       "  <th>Int'l_Plan</th>     <td>    2.1048</td> <td>    0.167</td> <td>   12.587</td> <td> 0.000</td> <td>    1.777</td> <td>    2.433</td>\n",
       "</tr>\n",
       "<tr>\n",
       "  <th>VMail_Plan</th>     <td>   -0.8717</td> <td>    0.167</td> <td>   -5.212</td> <td> 0.000</td> <td>   -1.200</td> <td>   -0.544</td>\n",
       "</tr>\n",
       "<tr>\n",
       "  <th>Day_Calls</th>      <td>    0.0005</td> <td>    0.003</td> <td>    0.148</td> <td> 0.883</td> <td>   -0.006</td> <td>    0.007</td>\n",
       "</tr>\n",
       "<tr>\n",
       "  <th>Day_Charge</th>     <td>    0.0695</td> <td>    0.007</td> <td>    9.547</td> <td> 0.000</td> <td>    0.055</td> <td>    0.084</td>\n",
       "</tr>\n",
       "<tr>\n",
       "  <th>Eve_Calls</th>      <td>    0.0018</td> <td>    0.003</td> <td>    0.566</td> <td> 0.571</td> <td>   -0.004</td> <td>    0.008</td>\n",
       "</tr>\n",
       "<tr>\n",
       "  <th>Eve_Charge</th>     <td>    0.0767</td> <td>    0.015</td> <td>    4.966</td> <td> 0.000</td> <td>    0.046</td> <td>    0.107</td>\n",
       "</tr>\n",
       "<tr>\n",
       "  <th>Night_Calls</th>    <td>    0.0006</td> <td>    0.003</td> <td>    0.167</td> <td> 0.867</td> <td>   -0.006</td> <td>    0.007</td>\n",
       "</tr>\n",
       "<tr>\n",
       "  <th>Night_Charge</th>   <td>    0.0670</td> <td>    0.029</td> <td>    2.343</td> <td> 0.019</td> <td>    0.011</td> <td>    0.123</td>\n",
       "</tr>\n",
       "<tr>\n",
       "  <th>Intl_Calls</th>     <td>   -0.1059</td> <td>    0.030</td> <td>   -3.540</td> <td> 0.000</td> <td>   -0.165</td> <td>   -0.047</td>\n",
       "</tr>\n",
       "<tr>\n",
       "  <th>Intl_Charge</th>    <td>    0.3561</td> <td>    0.087</td> <td>    4.071</td> <td> 0.000</td> <td>    0.185</td> <td>    0.528</td>\n",
       "</tr>\n",
       "</table>"
      ],
      "text/plain": [
       "<class 'statsmodels.iolib.summary.Summary'>\n",
       "\"\"\"\n",
       "                           Logit Regression Results                           \n",
       "==============================================================================\n",
       "Dep. Variable:                  Churn   No. Observations:                 2499\n",
       "Model:                          Logit   Df Residuals:                     2486\n",
       "Method:                           MLE   Df Model:                           12\n",
       "Date:                Wed, 30 Oct 2019   Pseudo R-squ.:                  0.2104\n",
       "Time:                        00:41:54   Log-Likelihood:                -810.62\n",
       "converged:                       True   LL-Null:                       -1026.7\n",
       "Covariance Type:            nonrobust   LLR p-value:                 5.930e-85\n",
       "==================================================================================\n",
       "                     coef    std err          z      P>|z|      [0.025      0.975]\n",
       "----------------------------------------------------------------------------------\n",
       "const             -7.9670      0.834     -9.558      0.000      -9.601      -6.333\n",
       "Account_Length     0.0006      0.002      0.355      0.723      -0.003       0.004\n",
       "CustServ_Calls     0.5142      0.045     11.529      0.000       0.427       0.602\n",
       "Int'l_Plan         2.1048      0.167     12.587      0.000       1.777       2.433\n",
       "VMail_Plan        -0.8717      0.167     -5.212      0.000      -1.200      -0.544\n",
       "Day_Calls          0.0005      0.003      0.148      0.883      -0.006       0.007\n",
       "Day_Charge         0.0695      0.007      9.547      0.000       0.055       0.084\n",
       "Eve_Calls          0.0018      0.003      0.566      0.571      -0.004       0.008\n",
       "Eve_Charge         0.0767      0.015      4.966      0.000       0.046       0.107\n",
       "Night_Calls        0.0006      0.003      0.167      0.867      -0.006       0.007\n",
       "Night_Charge       0.0670      0.029      2.343      0.019       0.011       0.123\n",
       "Intl_Calls        -0.1059      0.030     -3.540      0.000      -0.165      -0.047\n",
       "Intl_Charge        0.3561      0.087      4.071      0.000       0.185       0.528\n",
       "==================================================================================\n",
       "\"\"\""
      ]
     },
     "execution_count": 73,
     "metadata": {},
     "output_type": "execute_result"
    }
   ],
   "source": [
    "results.summary()"
   ]
  },
  {
   "cell_type": "markdown",
   "metadata": {},
   "source": [
    "#### For a one-unit increase in CustServ_Calls we expect on average a 0.5142 increase in the log-odds of churn, holding all other independent variables constant."
   ]
  },
  {
   "cell_type": "markdown",
   "metadata": {},
   "source": [
    "#### For a one-unit increase in Day_Charge we expect on average a 0.0695 increase in the log-odds of churn, holding all other independent variables constant."
   ]
  },
  {
   "cell_type": "markdown",
   "metadata": {},
   "source": [
    "#### For a one-unit increase in Eve_Charge we expect on average a 0.0767 increase in the log-odds of churn, holding all other independent variables constant."
   ]
  },
  {
   "cell_type": "markdown",
   "metadata": {},
   "source": [
    "#### For a one-unit increase in Night_Charge we expect on average a 0.0670 increase in the log-odds of churn, holding all other independent variables constant."
   ]
  },
  {
   "cell_type": "markdown",
   "metadata": {},
   "source": [
    "#### For a one-unit increase in Intl_Calls we expect on average a 0.1059 decrease in the log-odds of churn, holding all other independent variables constant."
   ]
  },
  {
   "cell_type": "markdown",
   "metadata": {},
   "source": [
    "#### For a one-unit increase in Intl_Charge we expect on average a 0.3561 increase in the log-odds of churn, holding all other independent variables constant."
   ]
  },
  {
   "cell_type": "markdown",
   "metadata": {},
   "source": [
    "#### For customers with Int'l_Plan , we expect on average a 2.1048 increase in the log-odds of the dependent variable churn compared to the customers without Int'l_Plan ."
   ]
  },
  {
   "cell_type": "markdown",
   "metadata": {},
   "source": [
    "#### For customers with VMail_Plan , we expect on average a 0.8717 decrease in the log-odds of the dependent variable churn compared to the customers without VMail_Plan ."
   ]
  },
  {
   "cell_type": "markdown",
   "metadata": {},
   "source": [
    "### The Marginal Effects Summary of Model 1"
   ]
  },
  {
   "cell_type": "code",
   "execution_count": 74,
   "metadata": {},
   "outputs": [
    {
     "data": {
      "text/html": [
       "<table class=\"simpletable\">\n",
       "<caption>Logit Marginal Effects</caption>\n",
       "<tr>\n",
       "  <th>Dep. Variable:</th>  <td>Churn</td> \n",
       "</tr>\n",
       "<tr>\n",
       "  <th>Method:</th>         <td>dydx</td>  \n",
       "</tr>\n",
       "<tr>\n",
       "  <th>At:</th>            <td>overall</td>\n",
       "</tr>\n",
       "</table>\n",
       "<table class=\"simpletable\">\n",
       "<tr>\n",
       "         <th></th>           <th>dy/dx</th>    <th>std err</th>      <th>z</th>      <th>P>|z|</th>  <th>[0.025</th>    <th>0.975]</th>  \n",
       "</tr>\n",
       "<tr>\n",
       "  <th>Account_Length</th> <td> 5.671e-05</td> <td>    0.000</td> <td>    0.355</td> <td> 0.723</td> <td>   -0.000</td> <td>    0.000</td>\n",
       "</tr>\n",
       "<tr>\n",
       "  <th>CustServ_Calls</th> <td>    0.0501</td> <td>    0.004</td> <td>   12.270</td> <td> 0.000</td> <td>    0.042</td> <td>    0.058</td>\n",
       "</tr>\n",
       "<tr>\n",
       "  <th>Int'l_Plan</th>     <td>    0.2049</td> <td>    0.015</td> <td>   13.915</td> <td> 0.000</td> <td>    0.176</td> <td>    0.234</td>\n",
       "</tr>\n",
       "<tr>\n",
       "  <th>VMail_Plan</th>     <td>   -0.0849</td> <td>    0.016</td> <td>   -5.256</td> <td> 0.000</td> <td>   -0.116</td> <td>   -0.053</td>\n",
       "</tr>\n",
       "<tr>\n",
       "  <th>Day_Calls</th>      <td> 4.541e-05</td> <td>    0.000</td> <td>    0.148</td> <td> 0.883</td> <td>   -0.001</td> <td>    0.001</td>\n",
       "</tr>\n",
       "<tr>\n",
       "  <th>Day_Charge</th>     <td>    0.0068</td> <td>    0.001</td> <td>    9.904</td> <td> 0.000</td> <td>    0.005</td> <td>    0.008</td>\n",
       "</tr>\n",
       "<tr>\n",
       "  <th>Eve_Calls</th>      <td>    0.0002</td> <td>    0.000</td> <td>    0.566</td> <td> 0.571</td> <td>   -0.000</td> <td>    0.001</td>\n",
       "</tr>\n",
       "<tr>\n",
       "  <th>Eve_Charge</th>     <td>    0.0075</td> <td>    0.001</td> <td>    5.008</td> <td> 0.000</td> <td>    0.005</td> <td>    0.010</td>\n",
       "</tr>\n",
       "<tr>\n",
       "  <th>Night_Calls</th>    <td> 5.362e-05</td> <td>    0.000</td> <td>    0.167</td> <td> 0.867</td> <td>   -0.001</td> <td>    0.001</td>\n",
       "</tr>\n",
       "<tr>\n",
       "  <th>Night_Charge</th>   <td>    0.0065</td> <td>    0.003</td> <td>    2.347</td> <td> 0.019</td> <td>    0.001</td> <td>    0.012</td>\n",
       "</tr>\n",
       "<tr>\n",
       "  <th>Intl_Calls</th>     <td>   -0.0103</td> <td>    0.003</td> <td>   -3.552</td> <td> 0.000</td> <td>   -0.016</td> <td>   -0.005</td>\n",
       "</tr>\n",
       "<tr>\n",
       "  <th>Intl_Charge</th>    <td>    0.0347</td> <td>    0.008</td> <td>    4.100</td> <td> 0.000</td> <td>    0.018</td> <td>    0.051</td>\n",
       "</tr>\n",
       "</table>"
      ],
      "text/plain": [
       "<class 'statsmodels.iolib.summary.Summary'>\n",
       "\"\"\"\n",
       "        Logit Marginal Effects       \n",
       "=====================================\n",
       "Dep. Variable:                  Churn\n",
       "Method:                          dydx\n",
       "At:                           overall\n",
       "==================================================================================\n",
       "                    dy/dx    std err          z      P>|z|      [0.025      0.975]\n",
       "----------------------------------------------------------------------------------\n",
       "Account_Length  5.671e-05      0.000      0.355      0.723      -0.000       0.000\n",
       "CustServ_Calls     0.0501      0.004     12.270      0.000       0.042       0.058\n",
       "Int'l_Plan         0.2049      0.015     13.915      0.000       0.176       0.234\n",
       "VMail_Plan        -0.0849      0.016     -5.256      0.000      -0.116      -0.053\n",
       "Day_Calls       4.541e-05      0.000      0.148      0.883      -0.001       0.001\n",
       "Day_Charge         0.0068      0.001      9.904      0.000       0.005       0.008\n",
       "Eve_Calls          0.0002      0.000      0.566      0.571      -0.000       0.001\n",
       "Eve_Charge         0.0075      0.001      5.008      0.000       0.005       0.010\n",
       "Night_Calls     5.362e-05      0.000      0.167      0.867      -0.001       0.001\n",
       "Night_Charge       0.0065      0.003      2.347      0.019       0.001       0.012\n",
       "Intl_Calls        -0.0103      0.003     -3.552      0.000      -0.016      -0.005\n",
       "Intl_Charge        0.0347      0.008      4.100      0.000       0.018       0.051\n",
       "==================================================================================\n",
       "\"\"\""
      ]
     },
     "execution_count": 74,
     "metadata": {},
     "output_type": "execute_result"
    }
   ],
   "source": [
    "results.get_margeff().summary()"
   ]
  },
  {
   "cell_type": "markdown",
   "metadata": {},
   "source": [
    "#### An Incremental increase in CustServ Calls will increase the probability of churn on average by 5,01% when other factors are held constant.\n",
    "#### Customers who have Int'l_Plan have on average 20.49% higher probability of churn compared to customers who don't have.\n",
    "#### Customers who have VMail_Plan have on average 8,49% lower probability of churn compared to customers who don't have.\n",
    "#### An Incremental increase in Day_Charge will increase the probability of churn on average by 0.68% when other factors are held constant.\n",
    "#### An Incremental increase in Eve Charge will increase the probability of churn on average by 0.2% when other factors are held constant.\n",
    "#### An Incremental increase in Night Charge will increase the probability of churn on average by 0.65% when other factors are held constant.\n",
    "#### An Incremental increase in Intl Calls will decrease the probability of churn on average by 1.03% when other factors are held constant.\n",
    "#### An Incremental increase in Intl Charge will increase the probability of churn on average by 3.47% when other factors are held constant."
   ]
  },
  {
   "cell_type": "code",
   "execution_count": 80,
   "metadata": {},
   "outputs": [
    {
     "data": {
      "text/html": [
       "<div>\n",
       "<style scoped>\n",
       "    .dataframe tbody tr th:only-of-type {\n",
       "        vertical-align: middle;\n",
       "    }\n",
       "\n",
       "    .dataframe tbody tr th {\n",
       "        vertical-align: top;\n",
       "    }\n",
       "\n",
       "    .dataframe thead th {\n",
       "        text-align: right;\n",
       "    }\n",
       "</style>\n",
       "<table border=\"1\" class=\"dataframe\">\n",
       "  <thead>\n",
       "    <tr style=\"text-align: right;\">\n",
       "      <th></th>\n",
       "      <th>Accuracy</th>\n",
       "      <th>ROC_AUC</th>\n",
       "      <th>Recall</th>\n",
       "    </tr>\n",
       "  </thead>\n",
       "  <tbody>\n",
       "    <tr>\n",
       "      <th>Training set</th>\n",
       "      <td>0.863946</td>\n",
       "      <td>0.593763</td>\n",
       "      <td>0.215084</td>\n",
       "    </tr>\n",
       "    <tr>\n",
       "      <th>Testing set</th>\n",
       "      <td>0.860911</td>\n",
       "      <td>0.592011</td>\n",
       "      <td>0.208000</td>\n",
       "    </tr>\n",
       "  </tbody>\n",
       "</table>\n",
       "</div>"
      ],
      "text/plain": [
       "              Accuracy   ROC_AUC    Recall\n",
       "Training set  0.863946  0.593763  0.215084\n",
       "Testing set   0.860911  0.592011  0.208000"
      ]
     },
     "execution_count": 80,
     "metadata": {},
     "output_type": "execute_result"
    }
   ],
   "source": [
    "#summarizing the results into a dataframe\n",
    "results_summary=pd.DataFrame({\"Accuracy\":[accuracy_score(Y0,Y0_logit),accuracy_score(Y1,Y1_logit)],\n",
    "                              \"ROC_AUC\":[roc_auc_score(Y0,Y0_logit),roc_auc_score(Y1, Y1_logit)],\n",
    "                              \"Recall\":[recall_score(Y0, Y0_logit),recall_score(Y1, Y1_logit)]\n",
    "                              },\n",
    "                             index=[\"Training set\",\"Testing set\"])\n",
    "results_summary"
   ]
  },
  {
   "cell_type": "markdown",
   "metadata": {},
   "source": [
    "#### as we see,Model 1 has very little variance between Train and Test measures. Also we can note the difference between accuracy and ROC AUC score: Accuracy is much higher than ROC AUC, conditioned by not balanced data. ROC AUC score is lower as it is based on all levels of thresholds (not just 0.5), and takes into account both recall and specificity score values."
   ]
  },
  {
   "cell_type": "code",
   "execution_count": 82,
   "metadata": {},
   "outputs": [
    {
     "name": "stdout",
     "output_type": "stream",
     "text": [
      "Logistic Regression Train:\n",
      "              precision    recall  f1-score   support\n",
      "\n",
      "           0       0.88      0.97      0.92      2141\n",
      "           1       0.57      0.22      0.31       358\n",
      "\n",
      "    accuracy                           0.86      2499\n",
      "   macro avg       0.72      0.59      0.62      2499\n",
      "weighted avg       0.84      0.86      0.84      2499\n",
      "\n",
      "Logistic Regression Test:\n",
      "              precision    recall  f1-score   support\n",
      "\n",
      "           0       0.87      0.98      0.92       709\n",
      "           1       0.60      0.21      0.31       125\n",
      "\n",
      "    accuracy                           0.86       834\n",
      "   macro avg       0.74      0.59      0.62       834\n",
      "weighted avg       0.83      0.86      0.83       834\n",
      "\n"
     ]
    }
   ],
   "source": [
    "#calculating using classification report\n",
    "print(\"Logistic Regression Train:\")\n",
    "print(classification_report(Y0,Y0_logit))\n",
    "\n",
    "print(\"Logistic Regression Test:\")\n",
    "print(classification_report(Y1,Y1_logit))"
   ]
  },
  {
   "cell_type": "markdown",
   "metadata": {},
   "source": [
    "####  As we can see  although the Model 1 measures are good for 0s, they are not doing a good job when predicting 1s. This may be a problem of unbalanced data, not using cross-validation and hyperparameter tuning."
   ]
  },
  {
   "cell_type": "code",
   "execution_count": null,
   "metadata": {},
   "outputs": [],
   "source": []
  }
 ],
 "metadata": {
  "kernelspec": {
   "display_name": "Python 3",
   "language": "python",
   "name": "python3"
  },
  "language_info": {
   "codemirror_mode": {
    "name": "ipython",
    "version": 3
   },
   "file_extension": ".py",
   "mimetype": "text/x-python",
   "name": "python",
   "nbconvert_exporter": "python",
   "pygments_lexer": "ipython3",
   "version": "3.7.3"
  }
 },
 "nbformat": 4,
 "nbformat_minor": 2
}
